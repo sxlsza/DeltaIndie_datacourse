{
 "cells": [
  {
   "cell_type": "markdown",
   "id": "6ce8ad22-e0f5-4da3-868e-c4c6c839a8d7",
   "metadata": {},
   "source": [
    "Post Test 2"
   ]
  },
  {
   "cell_type": "code",
   "execution_count": 6,
   "id": "7a8bbbbe-0037-45e1-af88-e839b1ae405a",
   "metadata": {},
   "outputs": [],
   "source": [
    "import pandas as pd\n",
    "import numpy as np "
   ]
  },
  {
   "cell_type": "code",
   "execution_count": 21,
   "id": "b345f32e-4a9f-49ed-87e7-43621005e621",
   "metadata": {},
   "outputs": [
    {
     "ename": "SyntaxError",
     "evalue": "(unicode error) 'unicodeescape' codec can't decode bytes in position 2-3: truncated \\UXXXXXXXX escape (491944584.py, line 10)",
     "output_type": "error",
     "traceback": [
      "\u001b[1;36m  Cell \u001b[1;32mIn[21], line 10\u001b[1;36m\u001b[0m\n\u001b[1;33m    data_jualan = pd.read_csv(\"C:\\Users\\TZ777\\DeltaIndie_DScourse\")\u001b[0m\n\u001b[1;37m                              ^\u001b[0m\n\u001b[1;31mSyntaxError\u001b[0m\u001b[1;31m:\u001b[0m (unicode error) 'unicodeescape' codec can't decode bytes in position 2-3: truncated \\UXXXXXXXX escape\n"
     ]
    }
   ],
   "source": [
    "import os\n",
    "print(os.getcwd()) \n",
    "\n",
    "#data_jualan = pd.read_csv(\"TransactionModel2.xlsx\")\n",
    "#data_jualan\n",
    "\n",
    "#data_jualan = pd.read_excel(r\"C:\\Users\\TZ777\\GHclone\\DeltaIndie_datacourse\\TransactionModel2.xlsx\")\n",
    "#data_jualan\n",
    "\n",
    "data_jualan = pd.read_csv(\"C:\\Users\\TZ777\\DeltaIndie_DScourse\")\n",
    "data_jualan"
   ]
  },
  {
   "cell_type": "code",
   "execution_count": null,
   "id": "99a92072-650c-48e4-b11b-aa5a34db26fb",
   "metadata": {},
   "outputs": [],
   "source": []
  }
 ],
 "metadata": {
  "kernelspec": {
   "display_name": "Python 3 (ipykernel)",
   "language": "python",
   "name": "python3"
  },
  "language_info": {
   "codemirror_mode": {
    "name": "ipython",
    "version": 3
   },
   "file_extension": ".py",
   "mimetype": "text/x-python",
   "name": "python",
   "nbconvert_exporter": "python",
   "pygments_lexer": "ipython3",
   "version": "3.12.7"
  }
 },
 "nbformat": 4,
 "nbformat_minor": 5
}
