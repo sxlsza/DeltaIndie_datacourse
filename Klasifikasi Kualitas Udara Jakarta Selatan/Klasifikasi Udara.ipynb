{
 "cells": [
  {
   "cell_type": "markdown",
   "id": "6a4a82c5-e383-43e7-930b-8927351f4199",
   "metadata": {},
   "source": [
    "Melakukan Import Library"
   ]
  },
  {
   "cell_type": "code",
   "execution_count": 1,
   "id": "7671f8ff-4cb5-4be3-a904-d384a96ff567",
   "metadata": {},
   "outputs": [
    {
     "name": "stdout",
     "output_type": "stream",
     "text": [
      "Semua Library Diatas Termuat\n"
     ]
    }
   ],
   "source": [
    "import numpy as np\n",
    "import pandas as pd\n",
    "import matplotlib.pyplot as plt\n",
    "import seaborn as sns\n",
    "import warnings\n",
    "warnings.filterwarnings(\"ignore\")\n",
    "\n",
    "print(\"Semua Library Diatas Termuat\")"
   ]
  },
  {
   "cell_type": "markdown",
   "id": "3b91f1cc-2d83-403d-8128-7f24eca24ef3",
   "metadata": {},
   "source": [
    "Loading DataSet"
   ]
  },
  {
   "cell_type": "code",
   "execution_count": 2,
   "id": "db17ae2c-37e0-463d-990c-458f594607ab",
   "metadata": {},
   "outputs": [
    {
     "data": {
      "text/html": [
       "<div>\n",
       "<style scoped>\n",
       "    .dataframe tbody tr th:only-of-type {\n",
       "        vertical-align: middle;\n",
       "    }\n",
       "\n",
       "    .dataframe tbody tr th {\n",
       "        vertical-align: top;\n",
       "    }\n",
       "\n",
       "    .dataframe thead th {\n",
       "        text-align: right;\n",
       "    }\n",
       "</style>\n",
       "<table border=\"1\" class=\"dataframe\">\n",
       "  <thead>\n",
       "    <tr style=\"text-align: right;\">\n",
       "      <th></th>\n",
       "      <th>Date</th>\n",
       "      <th>PM2.5</th>\n",
       "      <th>PM10</th>\n",
       "      <th>SO2</th>\n",
       "      <th>CO</th>\n",
       "      <th>O3</th>\n",
       "      <th>NO2</th>\n",
       "      <th>Max</th>\n",
       "      <th>Critical Component</th>\n",
       "      <th>Category</th>\n",
       "    </tr>\n",
       "  </thead>\n",
       "  <tbody>\n",
       "    <tr>\n",
       "      <th>0</th>\n",
       "      <td>1/1/2020</td>\n",
       "      <td>45</td>\n",
       "      <td>30</td>\n",
       "      <td>2</td>\n",
       "      <td>69</td>\n",
       "      <td>19.0</td>\n",
       "      <td>0</td>\n",
       "      <td>69</td>\n",
       "      <td>CO</td>\n",
       "      <td>Moderate</td>\n",
       "    </tr>\n",
       "    <tr>\n",
       "      <th>1</th>\n",
       "      <td>1/2/2020</td>\n",
       "      <td>44</td>\n",
       "      <td>16</td>\n",
       "      <td>2</td>\n",
       "      <td>58</td>\n",
       "      <td>33.0</td>\n",
       "      <td>0</td>\n",
       "      <td>58</td>\n",
       "      <td>CO</td>\n",
       "      <td>Moderate</td>\n",
       "    </tr>\n",
       "    <tr>\n",
       "      <th>2</th>\n",
       "      <td>1/3/2020</td>\n",
       "      <td>43</td>\n",
       "      <td>12</td>\n",
       "      <td>2</td>\n",
       "      <td>46</td>\n",
       "      <td>18.0</td>\n",
       "      <td>0</td>\n",
       "      <td>46</td>\n",
       "      <td>CO</td>\n",
       "      <td>Good</td>\n",
       "    </tr>\n",
       "    <tr>\n",
       "      <th>3</th>\n",
       "      <td>1/4/2020</td>\n",
       "      <td>40</td>\n",
       "      <td>8</td>\n",
       "      <td>2</td>\n",
       "      <td>84</td>\n",
       "      <td>29.0</td>\n",
       "      <td>0</td>\n",
       "      <td>84</td>\n",
       "      <td>CO</td>\n",
       "      <td>Moderate</td>\n",
       "    </tr>\n",
       "    <tr>\n",
       "      <th>4</th>\n",
       "      <td>1/5/2020</td>\n",
       "      <td>38</td>\n",
       "      <td>8</td>\n",
       "      <td>3</td>\n",
       "      <td>50</td>\n",
       "      <td>0.0</td>\n",
       "      <td>0</td>\n",
       "      <td>50</td>\n",
       "      <td>CO</td>\n",
       "      <td>Good</td>\n",
       "    </tr>\n",
       "    <tr>\n",
       "      <th>...</th>\n",
       "      <td>...</td>\n",
       "      <td>...</td>\n",
       "      <td>...</td>\n",
       "      <td>...</td>\n",
       "      <td>...</td>\n",
       "      <td>...</td>\n",
       "      <td>...</td>\n",
       "      <td>...</td>\n",
       "      <td>...</td>\n",
       "      <td>...</td>\n",
       "    </tr>\n",
       "    <tr>\n",
       "      <th>1091</th>\n",
       "      <td>12/27/2022</td>\n",
       "      <td>50</td>\n",
       "      <td>19</td>\n",
       "      <td>16</td>\n",
       "      <td>12</td>\n",
       "      <td>NaN</td>\n",
       "      <td>4</td>\n",
       "      <td>19</td>\n",
       "      <td>PM2.5</td>\n",
       "      <td>Moderate</td>\n",
       "    </tr>\n",
       "    <tr>\n",
       "      <th>1092</th>\n",
       "      <td>12/28/2022</td>\n",
       "      <td>51</td>\n",
       "      <td>20</td>\n",
       "      <td>16</td>\n",
       "      <td>12</td>\n",
       "      <td>NaN</td>\n",
       "      <td>4</td>\n",
       "      <td>20</td>\n",
       "      <td>PM2.5</td>\n",
       "      <td>Moderate</td>\n",
       "    </tr>\n",
       "    <tr>\n",
       "      <th>1093</th>\n",
       "      <td>12/29/2022</td>\n",
       "      <td>52</td>\n",
       "      <td>21</td>\n",
       "      <td>16</td>\n",
       "      <td>13</td>\n",
       "      <td>NaN</td>\n",
       "      <td>4</td>\n",
       "      <td>21</td>\n",
       "      <td>PM2.5</td>\n",
       "      <td>Moderate</td>\n",
       "    </tr>\n",
       "    <tr>\n",
       "      <th>1094</th>\n",
       "      <td>12/30/2022</td>\n",
       "      <td>53</td>\n",
       "      <td>22</td>\n",
       "      <td>17</td>\n",
       "      <td>13</td>\n",
       "      <td>NaN</td>\n",
       "      <td>4</td>\n",
       "      <td>22</td>\n",
       "      <td>PM2.5</td>\n",
       "      <td>Moderate</td>\n",
       "    </tr>\n",
       "    <tr>\n",
       "      <th>1095</th>\n",
       "      <td>12/31/2022</td>\n",
       "      <td>53</td>\n",
       "      <td>23</td>\n",
       "      <td>17</td>\n",
       "      <td>14</td>\n",
       "      <td>NaN</td>\n",
       "      <td>4</td>\n",
       "      <td>23</td>\n",
       "      <td>PM2.5</td>\n",
       "      <td>Moderate</td>\n",
       "    </tr>\n",
       "  </tbody>\n",
       "</table>\n",
       "<p>1096 rows × 10 columns</p>\n",
       "</div>"
      ],
      "text/plain": [
       "            Date  PM2.5  PM10  SO2  CO    O3  NO2  Max Critical Component  \\\n",
       "0       1/1/2020     45    30    2  69  19.0    0   69                 CO   \n",
       "1       1/2/2020     44    16    2  58  33.0    0   58                 CO   \n",
       "2       1/3/2020     43    12    2  46  18.0    0   46                 CO   \n",
       "3       1/4/2020     40     8    2  84  29.0    0   84                 CO   \n",
       "4       1/5/2020     38     8    3  50   0.0    0   50                 CO   \n",
       "...          ...    ...   ...  ...  ..   ...  ...  ...                ...   \n",
       "1091  12/27/2022     50    19   16  12   NaN    4   19              PM2.5   \n",
       "1092  12/28/2022     51    20   16  12   NaN    4   20              PM2.5   \n",
       "1093  12/29/2022     52    21   16  13   NaN    4   21              PM2.5   \n",
       "1094  12/30/2022     53    22   17  13   NaN    4   22              PM2.5   \n",
       "1095  12/31/2022     53    23   17  14   NaN    4   23              PM2.5   \n",
       "\n",
       "      Category  \n",
       "0     Moderate  \n",
       "1     Moderate  \n",
       "2         Good  \n",
       "3     Moderate  \n",
       "4         Good  \n",
       "...        ...  \n",
       "1091  Moderate  \n",
       "1092  Moderate  \n",
       "1093  Moderate  \n",
       "1094  Moderate  \n",
       "1095  Moderate  \n",
       "\n",
       "[1096 rows x 10 columns]"
      ]
     },
     "execution_count": 2,
     "metadata": {},
     "output_type": "execute_result"
    }
   ],
   "source": [
    "df = pd.read_csv(\"pollutant-standards-index-southtangerang-2020-2022.csv\")\n",
    "df"
   ]
  },
  {
   "cell_type": "markdown",
   "id": "cc7b7fb1-5433-4446-a2bd-fe832561c28c",
   "metadata": {},
   "source": [
    "Data Understanding"
   ]
  },
  {
   "cell_type": "code",
   "execution_count": 3,
   "id": "b723cf2b-3623-4f33-8744-2af8e6839a57",
   "metadata": {},
   "outputs": [
    {
     "data": {
      "text/html": [
       "<div>\n",
       "<style scoped>\n",
       "    .dataframe tbody tr th:only-of-type {\n",
       "        vertical-align: middle;\n",
       "    }\n",
       "\n",
       "    .dataframe tbody tr th {\n",
       "        vertical-align: top;\n",
       "    }\n",
       "\n",
       "    .dataframe thead th {\n",
       "        text-align: right;\n",
       "    }\n",
       "</style>\n",
       "<table border=\"1\" class=\"dataframe\">\n",
       "  <thead>\n",
       "    <tr style=\"text-align: right;\">\n",
       "      <th></th>\n",
       "      <th>Nama Feature</th>\n",
       "      <th>Penjelasan</th>\n",
       "    </tr>\n",
       "  </thead>\n",
       "  <tbody>\n",
       "    <tr>\n",
       "      <th>1</th>\n",
       "      <td>Date</td>\n",
       "      <td>Tanggal pengukuran</td>\n",
       "    </tr>\n",
       "    <tr>\n",
       "      <th>2</th>\n",
       "      <td>PM10</td>\n",
       "      <td>Pengukuran Materi Partikulat</td>\n",
       "    </tr>\n",
       "    <tr>\n",
       "      <th>3</th>\n",
       "      <td>SO2</td>\n",
       "      <td>Pengukuran Sulfur Dioksida</td>\n",
       "    </tr>\n",
       "    <tr>\n",
       "      <th>4</th>\n",
       "      <td>CO</td>\n",
       "      <td>Pengukuran Karbon Monoksida</td>\n",
       "    </tr>\n",
       "    <tr>\n",
       "      <th>5</th>\n",
       "      <td>O3</td>\n",
       "      <td>Pengukuran ozon</td>\n",
       "    </tr>\n",
       "    <tr>\n",
       "      <th>6</th>\n",
       "      <td>NO2</td>\n",
       "      <td>Pengukuran Natrium DIoksida</td>\n",
       "    </tr>\n",
       "    <tr>\n",
       "      <th>7</th>\n",
       "      <td>Max</td>\n",
       "      <td>Nilai pengukuran tertinggi</td>\n",
       "    </tr>\n",
       "    <tr>\n",
       "      <th>8</th>\n",
       "      <td>Critical Component</td>\n",
       "      <td>Komponen nilai pengukuran tertinggi</td>\n",
       "    </tr>\n",
       "    <tr>\n",
       "      <th>9</th>\n",
       "      <td>Categoy</td>\n",
       "      <td>Kategori pencemaran udara baik atau tidak</td>\n",
       "    </tr>\n",
       "  </tbody>\n",
       "</table>\n",
       "</div>"
      ],
      "text/plain": [
       "         Nama Feature                                 Penjelasan\n",
       "1                Date                         Tanggal pengukuran\n",
       "2                PM10               Pengukuran Materi Partikulat\n",
       "3                 SO2                 Pengukuran Sulfur Dioksida\n",
       "4                  CO                Pengukuran Karbon Monoksida\n",
       "5                  O3                            Pengukuran ozon\n",
       "6                 NO2                Pengukuran Natrium DIoksida\n",
       "7                 Max                 Nilai pengukuran tertinggi\n",
       "8  Critical Component        Komponen nilai pengukuran tertinggi\n",
       "9             Categoy  Kategori pencemaran udara baik atau tidak"
      ]
     },
     "execution_count": 3,
     "metadata": {},
     "output_type": "execute_result"
    }
   ],
   "source": [
    "feature_dataset = pd.Series([\"Date\",\"PM10\",\"SO2\",\"CO\",\"O3\",\"NO2\",\"Max\",\"Critical Component\",\"Categoy\"],index=[1,2,3,4,5,6,7,8,9])\n",
    "penjelasan_feature = pd.Series([\"Tanggal pengukuran\",\"Pengukuran Materi Partikulat\",\"Pengukuran Sulfur Dioksida\",\"Pengukuran Karbon Monoksida\",\"Pengukuran ozon\",\"Pengukuran Natrium DIoksida\",\"Nilai pengukuran tertinggi\",\"Komponen nilai pengukuran tertinggi\",\"Kategori pencemaran udara baik atau tidak\"],index=[1,2,3,4,5,6,7,8,9])\n",
    "\n",
    "deskripsi_variabel = pd.DataFrame({\"Nama Feature\":feature_dataset,\n",
    "                                  \"Penjelasan\":penjelasan_feature})\n",
    "deskripsi_variabel"
   ]
  },
  {
   "cell_type": "markdown",
   "id": "ecf0292e-7de3-4458-993b-d1296fd87668",
   "metadata": {},
   "source": [
    "Informasi Data"
   ]
  },
  {
   "cell_type": "code",
   "execution_count": 4,
   "id": "e3d0eb5c-d044-427e-b71b-d226505262a6",
   "metadata": {},
   "outputs": [
    {
     "name": "stdout",
     "output_type": "stream",
     "text": [
      "<class 'pandas.core.frame.DataFrame'>\n",
      "RangeIndex: 1096 entries, 0 to 1095\n",
      "Data columns (total 10 columns):\n",
      " #   Column              Non-Null Count  Dtype  \n",
      "---  ------              --------------  -----  \n",
      " 0   Date                1096 non-null   object \n",
      " 1   PM2.5               1096 non-null   int64  \n",
      " 2   PM10                1096 non-null   int64  \n",
      " 3   SO2                 1096 non-null   int64  \n",
      " 4   CO                  1096 non-null   int64  \n",
      " 5   O3                  1036 non-null   float64\n",
      " 6   NO2                 1096 non-null   int64  \n",
      " 7   Max                 1096 non-null   int64  \n",
      " 8   Critical Component  1096 non-null   object \n",
      " 9   Category            1096 non-null   object \n",
      "dtypes: float64(1), int64(6), object(3)\n",
      "memory usage: 85.8+ KB\n"
     ]
    }
   ],
   "source": [
    "df.info()"
   ]
  },
  {
   "cell_type": "markdown",
   "id": "79e5d6aa-4674-4c75-a1b0-1ab6fa1455de",
   "metadata": {},
   "source": [
    "Statistik Deskriptif"
   ]
  },
  {
   "cell_type": "code",
   "execution_count": 5,
   "id": "fa9e1889-7ac0-4366-ad1e-0d000f3ced8a",
   "metadata": {},
   "outputs": [
    {
     "data": {
      "text/html": [
       "<div>\n",
       "<style scoped>\n",
       "    .dataframe tbody tr th:only-of-type {\n",
       "        vertical-align: middle;\n",
       "    }\n",
       "\n",
       "    .dataframe tbody tr th {\n",
       "        vertical-align: top;\n",
       "    }\n",
       "\n",
       "    .dataframe thead th {\n",
       "        text-align: right;\n",
       "    }\n",
       "</style>\n",
       "<table border=\"1\" class=\"dataframe\">\n",
       "  <thead>\n",
       "    <tr style=\"text-align: right;\">\n",
       "      <th></th>\n",
       "      <th>PM2.5</th>\n",
       "      <th>PM10</th>\n",
       "      <th>SO2</th>\n",
       "      <th>CO</th>\n",
       "      <th>O3</th>\n",
       "      <th>NO2</th>\n",
       "      <th>Max</th>\n",
       "    </tr>\n",
       "  </thead>\n",
       "  <tbody>\n",
       "    <tr>\n",
       "      <th>count</th>\n",
       "      <td>1096.000000</td>\n",
       "      <td>1096.000000</td>\n",
       "      <td>1096.000000</td>\n",
       "      <td>1096.000000</td>\n",
       "      <td>1036.000000</td>\n",
       "      <td>1096.000000</td>\n",
       "      <td>1096.000000</td>\n",
       "    </tr>\n",
       "    <tr>\n",
       "      <th>mean</th>\n",
       "      <td>44.193431</td>\n",
       "      <td>18.738139</td>\n",
       "      <td>10.580292</td>\n",
       "      <td>18.820255</td>\n",
       "      <td>20.960425</td>\n",
       "      <td>2.374088</td>\n",
       "      <td>29.235401</td>\n",
       "    </tr>\n",
       "    <tr>\n",
       "      <th>std</th>\n",
       "      <td>10.826190</td>\n",
       "      <td>7.290818</td>\n",
       "      <td>8.068708</td>\n",
       "      <td>17.066338</td>\n",
       "      <td>12.467208</td>\n",
       "      <td>2.227808</td>\n",
       "      <td>15.907933</td>\n",
       "    </tr>\n",
       "    <tr>\n",
       "      <th>min</th>\n",
       "      <td>19.000000</td>\n",
       "      <td>3.000000</td>\n",
       "      <td>0.000000</td>\n",
       "      <td>0.000000</td>\n",
       "      <td>0.000000</td>\n",
       "      <td>0.000000</td>\n",
       "      <td>11.000000</td>\n",
       "    </tr>\n",
       "    <tr>\n",
       "      <th>25%</th>\n",
       "      <td>35.000000</td>\n",
       "      <td>13.000000</td>\n",
       "      <td>1.000000</td>\n",
       "      <td>10.000000</td>\n",
       "      <td>15.000000</td>\n",
       "      <td>0.000000</td>\n",
       "      <td>20.000000</td>\n",
       "    </tr>\n",
       "    <tr>\n",
       "      <th>50%</th>\n",
       "      <td>45.000000</td>\n",
       "      <td>17.000000</td>\n",
       "      <td>14.000000</td>\n",
       "      <td>12.000000</td>\n",
       "      <td>20.000000</td>\n",
       "      <td>3.000000</td>\n",
       "      <td>24.000000</td>\n",
       "    </tr>\n",
       "    <tr>\n",
       "      <th>75%</th>\n",
       "      <td>53.000000</td>\n",
       "      <td>23.000000</td>\n",
       "      <td>16.000000</td>\n",
       "      <td>21.000000</td>\n",
       "      <td>26.000000</td>\n",
       "      <td>4.000000</td>\n",
       "      <td>31.000000</td>\n",
       "    </tr>\n",
       "    <tr>\n",
       "      <th>max</th>\n",
       "      <td>66.000000</td>\n",
       "      <td>60.000000</td>\n",
       "      <td>28.000000</td>\n",
       "      <td>164.000000</td>\n",
       "      <td>81.000000</td>\n",
       "      <td>8.000000</td>\n",
       "      <td>164.000000</td>\n",
       "    </tr>\n",
       "  </tbody>\n",
       "</table>\n",
       "</div>"
      ],
      "text/plain": [
       "             PM2.5         PM10          SO2           CO           O3  \\\n",
       "count  1096.000000  1096.000000  1096.000000  1096.000000  1036.000000   \n",
       "mean     44.193431    18.738139    10.580292    18.820255    20.960425   \n",
       "std      10.826190     7.290818     8.068708    17.066338    12.467208   \n",
       "min      19.000000     3.000000     0.000000     0.000000     0.000000   \n",
       "25%      35.000000    13.000000     1.000000    10.000000    15.000000   \n",
       "50%      45.000000    17.000000    14.000000    12.000000    20.000000   \n",
       "75%      53.000000    23.000000    16.000000    21.000000    26.000000   \n",
       "max      66.000000    60.000000    28.000000   164.000000    81.000000   \n",
       "\n",
       "               NO2          Max  \n",
       "count  1096.000000  1096.000000  \n",
       "mean      2.374088    29.235401  \n",
       "std       2.227808    15.907933  \n",
       "min       0.000000    11.000000  \n",
       "25%       0.000000    20.000000  \n",
       "50%       3.000000    24.000000  \n",
       "75%       4.000000    31.000000  \n",
       "max       8.000000   164.000000  "
      ]
     },
     "execution_count": 5,
     "metadata": {},
     "output_type": "execute_result"
    }
   ],
   "source": [
    "df.describe()"
   ]
  },
  {
   "cell_type": "markdown",
   "id": "889d797a-d720-41e5-8037-973b36230665",
   "metadata": {},
   "source": [
    "Mengecek keseimbangan data"
   ]
  },
  {
   "cell_type": "code",
   "execution_count": 6,
   "id": "9f3557d7-6de8-4b6e-867d-229fe03a88e9",
   "metadata": {},
   "outputs": [
    {
     "data": {
      "text/plain": [
       "Category\n",
       "Moderate     639\n",
       "Good         393\n",
       "Unhealthy     64\n",
       "Name: count, dtype: int64"
      ]
     },
     "execution_count": 6,
     "metadata": {},
     "output_type": "execute_result"
    }
   ],
   "source": [
    "df[\"Category\"].value_counts()"
   ]
  },
  {
   "cell_type": "markdown",
   "id": "3d8cef63-5417-4f15-bb55-950a49f08bc0",
   "metadata": {},
   "source": [
    "Data Cleansing dan Data Preprocesing"
   ]
  },
  {
   "cell_type": "markdown",
   "id": "600c5020-ca00-49af-abc1-9a14481e46cc",
   "metadata": {},
   "source": [
    "Mengecek nilai yang hilang"
   ]
  },
  {
   "cell_type": "code",
   "execution_count": 7,
   "id": "ca66d48e-4bde-499c-9c12-59eace7904fb",
   "metadata": {},
   "outputs": [
    {
     "data": {
      "text/plain": [
       "Date                   0\n",
       "PM2.5                  0\n",
       "PM10                   0\n",
       "SO2                    0\n",
       "CO                     0\n",
       "O3                    60\n",
       "NO2                    0\n",
       "Max                    0\n",
       "Critical Component     0\n",
       "Category               0\n",
       "dtype: int64"
      ]
     },
     "execution_count": 7,
     "metadata": {},
     "output_type": "execute_result"
    }
   ],
   "source": [
    "df.isnull().sum()"
   ]
  },
  {
   "cell_type": "markdown",
   "id": "298157f6-a83c-4d76-be2b-a086c5c800d3",
   "metadata": {},
   "source": [
    "Mengisi Missing Value dengan Nilai Mean pada O3"
   ]
  },
  {
   "cell_type": "code",
   "execution_count": 8,
   "id": "7aee1a48-1948-4ab8-acda-3ca0f2f5b914",
   "metadata": {},
   "outputs": [],
   "source": [
    "df[\"O3\"] = df[\"O3\"].fillna(df[\"O3\"].mean())"
   ]
  },
  {
   "cell_type": "code",
   "execution_count": 9,
   "id": "f04844ea-0990-416d-9230-0cadeba1b9f6",
   "metadata": {},
   "outputs": [
    {
     "data": {
      "text/plain": [
       "Date                  0\n",
       "PM2.5                 0\n",
       "PM10                  0\n",
       "SO2                   0\n",
       "CO                    0\n",
       "O3                    0\n",
       "NO2                   0\n",
       "Max                   0\n",
       "Critical Component    0\n",
       "Category              0\n",
       "dtype: int64"
      ]
     },
     "execution_count": 9,
     "metadata": {},
     "output_type": "execute_result"
    }
   ],
   "source": [
    "df.isnull().sum()"
   ]
  },
  {
   "cell_type": "markdown",
   "id": "cc217907-a53c-4f7a-a641-8fa06ac31d19",
   "metadata": {},
   "source": [
    "Mengecek Outlier"
   ]
  },
  {
   "cell_type": "code",
   "execution_count": 10,
   "id": "625c125b-ea07-44b0-a3b9-b5a8c26aeb8d",
   "metadata": {},
   "outputs": [],
   "source": [
    "df_baru = df[[\"PM2.5\",\"PM10\",\"SO2\",\"NO2\",\"CO\",\"Category\"]]"
   ]
  },
  {
   "cell_type": "code",
   "execution_count": 11,
   "id": "828ce682-4aa6-4594-9c4f-bfac03f71032",
   "metadata": {},
   "outputs": [
    {
     "data": {
      "text/html": [
       "<div>\n",
       "<style scoped>\n",
       "    .dataframe tbody tr th:only-of-type {\n",
       "        vertical-align: middle;\n",
       "    }\n",
       "\n",
       "    .dataframe tbody tr th {\n",
       "        vertical-align: top;\n",
       "    }\n",
       "\n",
       "    .dataframe thead th {\n",
       "        text-align: right;\n",
       "    }\n",
       "</style>\n",
       "<table border=\"1\" class=\"dataframe\">\n",
       "  <thead>\n",
       "    <tr style=\"text-align: right;\">\n",
       "      <th></th>\n",
       "      <th>PM2.5</th>\n",
       "      <th>PM10</th>\n",
       "      <th>SO2</th>\n",
       "      <th>NO2</th>\n",
       "      <th>CO</th>\n",
       "      <th>Category</th>\n",
       "    </tr>\n",
       "  </thead>\n",
       "  <tbody>\n",
       "    <tr>\n",
       "      <th>0</th>\n",
       "      <td>45</td>\n",
       "      <td>30</td>\n",
       "      <td>2</td>\n",
       "      <td>0</td>\n",
       "      <td>69</td>\n",
       "      <td>Moderate</td>\n",
       "    </tr>\n",
       "    <tr>\n",
       "      <th>1</th>\n",
       "      <td>44</td>\n",
       "      <td>16</td>\n",
       "      <td>2</td>\n",
       "      <td>0</td>\n",
       "      <td>58</td>\n",
       "      <td>Moderate</td>\n",
       "    </tr>\n",
       "    <tr>\n",
       "      <th>2</th>\n",
       "      <td>43</td>\n",
       "      <td>12</td>\n",
       "      <td>2</td>\n",
       "      <td>0</td>\n",
       "      <td>46</td>\n",
       "      <td>Good</td>\n",
       "    </tr>\n",
       "    <tr>\n",
       "      <th>3</th>\n",
       "      <td>40</td>\n",
       "      <td>8</td>\n",
       "      <td>2</td>\n",
       "      <td>0</td>\n",
       "      <td>84</td>\n",
       "      <td>Moderate</td>\n",
       "    </tr>\n",
       "    <tr>\n",
       "      <th>4</th>\n",
       "      <td>38</td>\n",
       "      <td>8</td>\n",
       "      <td>3</td>\n",
       "      <td>0</td>\n",
       "      <td>50</td>\n",
       "      <td>Good</td>\n",
       "    </tr>\n",
       "    <tr>\n",
       "      <th>...</th>\n",
       "      <td>...</td>\n",
       "      <td>...</td>\n",
       "      <td>...</td>\n",
       "      <td>...</td>\n",
       "      <td>...</td>\n",
       "      <td>...</td>\n",
       "    </tr>\n",
       "    <tr>\n",
       "      <th>1091</th>\n",
       "      <td>50</td>\n",
       "      <td>19</td>\n",
       "      <td>16</td>\n",
       "      <td>4</td>\n",
       "      <td>12</td>\n",
       "      <td>Moderate</td>\n",
       "    </tr>\n",
       "    <tr>\n",
       "      <th>1092</th>\n",
       "      <td>51</td>\n",
       "      <td>20</td>\n",
       "      <td>16</td>\n",
       "      <td>4</td>\n",
       "      <td>12</td>\n",
       "      <td>Moderate</td>\n",
       "    </tr>\n",
       "    <tr>\n",
       "      <th>1093</th>\n",
       "      <td>52</td>\n",
       "      <td>21</td>\n",
       "      <td>16</td>\n",
       "      <td>4</td>\n",
       "      <td>13</td>\n",
       "      <td>Moderate</td>\n",
       "    </tr>\n",
       "    <tr>\n",
       "      <th>1094</th>\n",
       "      <td>53</td>\n",
       "      <td>22</td>\n",
       "      <td>17</td>\n",
       "      <td>4</td>\n",
       "      <td>13</td>\n",
       "      <td>Moderate</td>\n",
       "    </tr>\n",
       "    <tr>\n",
       "      <th>1095</th>\n",
       "      <td>53</td>\n",
       "      <td>23</td>\n",
       "      <td>17</td>\n",
       "      <td>4</td>\n",
       "      <td>14</td>\n",
       "      <td>Moderate</td>\n",
       "    </tr>\n",
       "  </tbody>\n",
       "</table>\n",
       "<p>1096 rows × 6 columns</p>\n",
       "</div>"
      ],
      "text/plain": [
       "      PM2.5  PM10  SO2  NO2  CO  Category\n",
       "0        45    30    2    0  69  Moderate\n",
       "1        44    16    2    0  58  Moderate\n",
       "2        43    12    2    0  46      Good\n",
       "3        40     8    2    0  84  Moderate\n",
       "4        38     8    3    0  50      Good\n",
       "...     ...   ...  ...  ...  ..       ...\n",
       "1091     50    19   16    4  12  Moderate\n",
       "1092     51    20   16    4  12  Moderate\n",
       "1093     52    21   16    4  13  Moderate\n",
       "1094     53    22   17    4  13  Moderate\n",
       "1095     53    23   17    4  14  Moderate\n",
       "\n",
       "[1096 rows x 6 columns]"
      ]
     },
     "execution_count": 11,
     "metadata": {},
     "output_type": "execute_result"
    }
   ],
   "source": [
    "df_baru"
   ]
  },
  {
   "cell_type": "code",
   "execution_count": 12,
   "id": "f81af084-71db-4f5f-84e0-8ba9c5706f98",
   "metadata": {},
   "outputs": [
    {
     "data": {
      "image/png": "[encoded data removed]",
      "text/plain": [
       "<Figure size 1200x800 with 1 Axes>"
      ]
     },
     "metadata": {},
     "output_type": "display_data"
    }
   ],
   "source": [
    "#Membuat boxplot outlier\n",
    "plt.figure(figsize=(12,8))\n",
    "plt.title(\"BoxPlot Outlier Detection\")\n",
    "df_baru.boxplot()\n",
    "plt.show()"
   ]
  },
  {
   "cell_type": "markdown",
   "id": "9e607828-0303-450f-a033-5ef070f28d69",
   "metadata": {},
   "source": [
    "Hilangkan Outlier"
   ]
  },
  {
   "cell_type": "code",
   "execution_count": 13,
   "id": "59c83ea7-0cfd-49f4-b587-39e1aca8ef23",
   "metadata": {},
   "outputs": [],
   "source": [
    "def hapus_outlier(data):\n",
    "    df_bersih = data.copy() #kita melakukan copy data kedalam variabel df_bersih\n",
    "    for col in df_bersih.columns: #memanggil nama setiap kolom yang disimpan ke dalam variabel col untuk di proses\n",
    "    #col=pm2.5\n",
    "        Q1 = data[col].quantile(0.25)#untuk menghitung Q!\n",
    "        Q3 = data[col].quantile(0.75)#untuk menghitung Q3\n",
    "        IQR = Q3-Q1 #untuk menghitung IQR range antara Q3 dan Q1\n",
    "        upper_bound = Q3 + 1.5 * IQR #menghapus outlier bagian atas\n",
    "        lower_bound = Q1 - 1.5 * IQR#menghitung outlier bagian bawah\n",
    "        df_bersih = df_bersih[(df_bersih[col]> lower_bound) &(df_bersih[col]<upper_bound)]\n",
    "    return df_bersih"
   ]
  },
  {
   "cell_type": "code",
   "execution_count": 14,
   "id": "78610f96-3eec-41b9-b66f-4d1c3c8123e9",
   "metadata": {},
   "outputs": [],
   "source": [
    "from sklearn.preprocessing import LabelEncoder\n",
    "label_encoder = LabelEncoder()\n",
    "\n",
    "#Label Encoding\n",
    "df_baru[\"Category\"]=label_encoder.fit_transform(df_baru[\"Category\"])"
   ]
  },
  {
   "cell_type": "code",
   "execution_count": 15,
   "id": "878adea2-2b14-4ecc-a83e-0e0bfb80ccca",
   "metadata": {},
   "outputs": [
    {
     "data": {
      "text/plain": [
       "Category\n",
       "1    639\n",
       "0    393\n",
       "2     64\n",
       "Name: count, dtype: int64"
      ]
     },
     "execution_count": 15,
     "metadata": {},
     "output_type": "execute_result"
    }
   ],
   "source": [
    "df_baru[\"Category\"].value_counts()"
   ]
  },
  {
   "cell_type": "markdown",
   "id": "b363a45f-3534-4466-bbc2-de85a892a0e5",
   "metadata": {},
   "source": [
    "1--> moderate\n",
    "\n",
    "2--> good\n",
    "\n",
    "3--> unhealty"
   ]
  },
  {
   "cell_type": "code",
   "execution_count": 16,
   "id": "0e74e8c3-d8fb-4429-a3ab-30740f9490e2",
   "metadata": {},
   "outputs": [],
   "source": [
    "df_no_outlier = hapus_outlier(df_baru)"
   ]
  },
  {
   "cell_type": "code",
   "execution_count": 17,
   "id": "a9c24e71-d1b9-43d9-9710-5c9f43632dc0",
   "metadata": {},
   "outputs": [
    {
     "data": {
      "image/png": "[encoded data removed]",
      "text/plain": [
       "<Figure size 1200x800 with 1 Axes>"
      ]
     },
     "metadata": {},
     "output_type": "display_data"
    }
   ],
   "source": [
    "#Membuat boxplot outlier\n",
    "plt.figure(figsize=(12,8))\n",
    "df_no_outlier[[\"PM2.5\",\"PM10\",\"SO2\",\"NO2\",\"CO\"]].boxplot()\n",
    "plt.title(\"BoxPlot Outlier after Detection REMOVE\")\n",
    "plt.show()"
   ]
  },
  {
   "cell_type": "code",
   "execution_count": 18,
   "id": "de4c590b-7978-4543-974a-9b1a68550750",
   "metadata": {},
   "outputs": [
    {
     "data": {
      "text/plain": [
       "(980, 6)"
      ]
     },
     "execution_count": 18,
     "metadata": {},
     "output_type": "execute_result"
    }
   ],
   "source": [
    "df_no_outlier.shape"
   ]
  },
  {
   "cell_type": "code",
   "execution_count": 19,
   "id": "34dd367f-c4b5-40f2-9d15-29f88abb2291",
   "metadata": {},
   "outputs": [
    {
     "name": "stdout",
     "output_type": "stream",
     "text": [
      "(1096, 6)\n",
      "(980, 6)\n"
     ]
    }
   ],
   "source": [
    "print(df_baru.shape)\n",
    "print(df_no_outlier.shape)"
   ]
  },
  {
   "cell_type": "markdown",
   "id": "bd96e7fb-1c14-4991-b994-cc4060ae6ce7",
   "metadata": {},
   "source": [
    "Pembagian Data Latih dan Uji"
   ]
  },
  {
   "cell_type": "code",
   "execution_count": 20,
   "id": "70f657ce-f866-4fca-8c78-7b6be06b2395",
   "metadata": {},
   "outputs": [],
   "source": [
    "from sklearn.model_selection import train_test_split"
   ]
  },
  {
   "cell_type": "code",
   "execution_count": 21,
   "id": "183bb198-696d-4978-ac7a-85ed3475b00b",
   "metadata": {},
   "outputs": [],
   "source": [
    "X = df_no_outlier.drop([\"Category\"], axis=1)\n",
    "y = df_no_outlier[\"Category\"]"
   ]
  },
  {
   "cell_type": "code",
   "execution_count": 22,
   "id": "81f734ef-7b32-42d0-abfa-ec00ac65a56f",
   "metadata": {},
   "outputs": [
    {
     "data": {
      "text/html": [
       "<div>\n",
       "<style scoped>\n",
       "    .dataframe tbody tr th:only-of-type {\n",
       "        vertical-align: middle;\n",
       "    }\n",
       "\n",
       "    .dataframe tbody tr th {\n",
       "        vertical-align: top;\n",
       "    }\n",
       "\n",
       "    .dataframe thead th {\n",
       "        text-align: right;\n",
       "    }\n",
       "</style>\n",
       "<table border=\"1\" class=\"dataframe\">\n",
       "  <thead>\n",
       "    <tr style=\"text-align: right;\">\n",
       "      <th></th>\n",
       "      <th>PM2.5</th>\n",
       "      <th>PM10</th>\n",
       "      <th>SO2</th>\n",
       "      <th>NO2</th>\n",
       "      <th>CO</th>\n",
       "    </tr>\n",
       "  </thead>\n",
       "  <tbody>\n",
       "    <tr>\n",
       "      <th>12</th>\n",
       "      <td>31</td>\n",
       "      <td>11</td>\n",
       "      <td>2</td>\n",
       "      <td>0</td>\n",
       "      <td>29</td>\n",
       "    </tr>\n",
       "    <tr>\n",
       "      <th>19</th>\n",
       "      <td>34</td>\n",
       "      <td>14</td>\n",
       "      <td>2</td>\n",
       "      <td>0</td>\n",
       "      <td>34</td>\n",
       "    </tr>\n",
       "    <tr>\n",
       "      <th>25</th>\n",
       "      <td>31</td>\n",
       "      <td>19</td>\n",
       "      <td>2</td>\n",
       "      <td>0</td>\n",
       "      <td>32</td>\n",
       "    </tr>\n",
       "    <tr>\n",
       "      <th>30</th>\n",
       "      <td>26</td>\n",
       "      <td>17</td>\n",
       "      <td>1</td>\n",
       "      <td>0</td>\n",
       "      <td>33</td>\n",
       "    </tr>\n",
       "    <tr>\n",
       "      <th>31</th>\n",
       "      <td>25</td>\n",
       "      <td>29</td>\n",
       "      <td>2</td>\n",
       "      <td>0</td>\n",
       "      <td>37</td>\n",
       "    </tr>\n",
       "    <tr>\n",
       "      <th>...</th>\n",
       "      <td>...</td>\n",
       "      <td>...</td>\n",
       "      <td>...</td>\n",
       "      <td>...</td>\n",
       "      <td>...</td>\n",
       "    </tr>\n",
       "    <tr>\n",
       "      <th>1091</th>\n",
       "      <td>50</td>\n",
       "      <td>19</td>\n",
       "      <td>16</td>\n",
       "      <td>4</td>\n",
       "      <td>12</td>\n",
       "    </tr>\n",
       "    <tr>\n",
       "      <th>1092</th>\n",
       "      <td>51</td>\n",
       "      <td>20</td>\n",
       "      <td>16</td>\n",
       "      <td>4</td>\n",
       "      <td>12</td>\n",
       "    </tr>\n",
       "    <tr>\n",
       "      <th>1093</th>\n",
       "      <td>52</td>\n",
       "      <td>21</td>\n",
       "      <td>16</td>\n",
       "      <td>4</td>\n",
       "      <td>13</td>\n",
       "    </tr>\n",
       "    <tr>\n",
       "      <th>1094</th>\n",
       "      <td>53</td>\n",
       "      <td>22</td>\n",
       "      <td>17</td>\n",
       "      <td>4</td>\n",
       "      <td>13</td>\n",
       "    </tr>\n",
       "    <tr>\n",
       "      <th>1095</th>\n",
       "      <td>53</td>\n",
       "      <td>23</td>\n",
       "      <td>17</td>\n",
       "      <td>4</td>\n",
       "      <td>14</td>\n",
       "    </tr>\n",
       "  </tbody>\n",
       "</table>\n",
       "<p>980 rows × 5 columns</p>\n",
       "</div>"
      ],
      "text/plain": [
       "      PM2.5  PM10  SO2  NO2  CO\n",
       "12       31    11    2    0  29\n",
       "19       34    14    2    0  34\n",
       "25       31    19    2    0  32\n",
       "30       26    17    1    0  33\n",
       "31       25    29    2    0  37\n",
       "...     ...   ...  ...  ...  ..\n",
       "1091     50    19   16    4  12\n",
       "1092     51    20   16    4  12\n",
       "1093     52    21   16    4  13\n",
       "1094     53    22   17    4  13\n",
       "1095     53    23   17    4  14\n",
       "\n",
       "[980 rows x 5 columns]"
      ]
     },
     "execution_count": 22,
     "metadata": {},
     "output_type": "execute_result"
    }
   ],
   "source": [
    "X"
   ]
  },
  {
   "cell_type": "code",
   "execution_count": 23,
   "id": "b4ecad9e-58fa-4567-b571-7cfc0129a8e5",
   "metadata": {},
   "outputs": [
    {
     "data": {
      "text/plain": [
       "12      0\n",
       "19      0\n",
       "25      0\n",
       "30      0\n",
       "31      0\n",
       "       ..\n",
       "1091    1\n",
       "1092    1\n",
       "1093    1\n",
       "1094    1\n",
       "1095    1\n",
       "Name: Category, Length: 980, dtype: int32"
      ]
     },
     "execution_count": 23,
     "metadata": {},
     "output_type": "execute_result"
    }
   ],
   "source": [
    "y"
   ]
  },
  {
   "cell_type": "markdown",
   "id": "66afcb06-2adb-40f4-ba3a-fddba341ff4e",
   "metadata": {},
   "source": [
    "Machine Learning (pelatihan dan pengujian 3 rasio)"
   ]
  },
  {
   "cell_type": "code",
   "execution_count": 24,
   "id": "5ef06279-5806-4952-b25d-de64fe7ed7fd",
   "metadata": {},
   "outputs": [],
   "source": [
    "from sklearn.ensemble import GradientBoostingClassifier\n",
    "from sklearn.neighbors import KNeighborsClassifier \n",
    "from sklearn.metrics import accuracy_score, classification_report, classification_report"
   ]
  },
  {
   "cell_type": "code",
   "execution_count": 25,
   "id": "6a2eb800-808d-4be6-b838-047fb2185105",
   "metadata": {},
   "outputs": [],
   "source": [
    "rasio = [0.2,0.3,0.4]"
   ]
  },
  {
   "cell_type": "code",
   "execution_count": 26,
   "id": "621e098b-0902-418a-bca3-30cb79e4448d",
   "metadata": {},
   "outputs": [],
   "source": [
    "model_gbc = GradientBoostingClassifier(random_state=42)\n",
    "model_knn = KNeighborsClassifier(n_neighbors=5)\n",
    "#algoritma RandomForest, XGBOOST, ADABOOST, Naive Bayes\n",
    "\n",
    "model = [model_gbc,model_knn]"
   ]
  },
  {
   "cell_type": "code",
   "execution_count": 27,
   "id": "d2424f26-bafb-415c-9efc-06be00bb61f1",
   "metadata": {},
   "outputs": [
    {
     "name": "stdout",
     "output_type": "stream",
     "text": [
      "Hasil peforma akurasi dari rasio 0.2\n",
      "Hasil akurasi pelatihan model GBC adalah  92.09183673469387\n",
      "Hasil Klasifikasin Report dari model GBC rasio 0.2 pelatihan\n",
      "              precision    recall  f1-score   support\n",
      "\n",
      "           0       0.89      0.90      0.90       292\n",
      "           1       0.94      0.93      0.93       466\n",
      "           2       0.93      0.96      0.94        26\n",
      "\n",
      "    accuracy                           0.92       784\n",
      "   macro avg       0.92      0.93      0.93       784\n",
      "weighted avg       0.92      0.92      0.92       784\n",
      "\n",
      "Hasil akurasi pengujian model GBC adalah  79.59183673469387\n",
      "Hasil Klasifikasin Report dari model GBC rasio 0.2 pengujian\n",
      "              precision    recall  f1-score   support\n",
      "\n",
      "           0       0.74      0.77      0.76        70\n",
      "           1       0.85      0.84      0.84       118\n",
      "           2       0.50      0.38      0.43         8\n",
      "\n",
      "    accuracy                           0.80       196\n",
      "   macro avg       0.70      0.66      0.68       196\n",
      "weighted avg       0.79      0.80      0.79       196\n",
      "\n",
      "==============================================================================\n",
      "Hasil peforma akurasi dari rasio 0.3\n",
      "Hasil akurasi pelatihan model GBC adalah  91.98250728862973\n",
      "Hasil Klasifikasin Report dari model GBC rasio 0.3 pelatihan\n",
      "              precision    recall  f1-score   support\n",
      "\n",
      "           0       0.88      0.91      0.89       254\n",
      "           1       0.94      0.92      0.93       410\n",
      "           2       0.96      1.00      0.98        22\n",
      "\n",
      "    accuracy                           0.92       686\n",
      "   macro avg       0.93      0.94      0.94       686\n",
      "weighted avg       0.92      0.92      0.92       686\n",
      "\n",
      "Hasil akurasi pengujian model GBC adalah  81.97278911564626\n",
      "Hasil Klasifikasin Report dari model GBC rasio 0.3 pengujian\n",
      "              precision    recall  f1-score   support\n",
      "\n",
      "           0       0.78      0.78      0.78       106\n",
      "           1       0.87      0.86      0.87       179\n",
      "           2       0.40      0.44      0.42         9\n",
      "\n",
      "    accuracy                           0.82       294\n",
      "   macro avg       0.68      0.70      0.69       294\n",
      "weighted avg       0.82      0.82      0.82       294\n",
      "\n",
      "==============================================================================\n",
      "Hasil peforma akurasi dari rasio 0.4\n",
      "Hasil akurasi pelatihan model GBC adalah  92.3469387755102\n",
      "Hasil Klasifikasin Report dari model GBC rasio 0.4 pelatihan\n",
      "              precision    recall  f1-score   support\n",
      "\n",
      "           0       0.90      0.90      0.90       229\n",
      "           1       0.94      0.94      0.94       340\n",
      "           2       1.00      0.95      0.97        19\n",
      "\n",
      "    accuracy                           0.92       588\n",
      "   macro avg       0.95      0.93      0.94       588\n",
      "weighted avg       0.92      0.92      0.92       588\n",
      "\n",
      "Hasil akurasi pengujian model GBC adalah  81.12244897959184\n",
      "Hasil Klasifikasin Report dari model GBC rasio 0.4 pengujian\n",
      "              precision    recall  f1-score   support\n",
      "\n",
      "           0       0.80      0.75      0.77       145\n",
      "           1       0.85      0.87      0.86       235\n",
      "           2       0.33      0.42      0.37        12\n",
      "\n",
      "    accuracy                           0.81       392\n",
      "   macro avg       0.66      0.68      0.67       392\n",
      "weighted avg       0.81      0.81      0.81       392\n",
      "\n",
      "==============================================================================\n"
     ]
    }
   ],
   "source": [
    "for i in rasio:\n",
    "    \n",
    "    #setting rasio loop\n",
    "    X_train, X_test, y_train, y_test = train_test_split(X,y,test_size=i, random_state=42)\n",
    "    \n",
    "    #memuat model\n",
    "    model = model_gbc\n",
    "    \n",
    "    #melatih model\n",
    "    model.fit(X_train, y_train)\n",
    "    \n",
    "    #menghitung sisi dari pelatihan\n",
    "    y_pred_train = model.predict(X_train)\n",
    "    \n",
    "    #menghitung sisi dari pengujian\n",
    "    y_pred_test = model.predict(X_test)\n",
    "    \n",
    "    \n",
    "    print(f\"Hasil peforma akurasi dari rasio {i}\")\n",
    "    #mengghitung akurasi SKOR training\n",
    "    print(\"Hasil akurasi pelatihan model GBC adalah \", accuracy_score(y_pred_train,y_train)*100)\n",
    "    print(f\"Hasil Klasifikasin Report dari model GBC rasio {i} pelatihan\")\n",
    "    print(classification_report(y_pred_train,y_train))\n",
    "    \n",
    "    #mengghitung akurasi SKOR pengujian\n",
    "    print(\"Hasil akurasi pengujian model GBC adalah \", accuracy_score(y_pred_test,y_test)*100)\n",
    "    print(f\"Hasil Klasifikasin Report dari model GBC rasio {i} pengujian\")\n",
    "    print(classification_report(y_pred_test,y_test))\n",
    "    \n",
    "    print(\"==============================================================================\")"
   ]
  },
  {
   "cell_type": "code",
   "execution_count": null,
   "id": "d9c641e0-2490-4d7f-a38a-2850388612ed",
   "metadata": {},
   "outputs": [],
   "source": []
  },
  {
   "cell_type": "code",
   "execution_count": null,
   "id": "5fd9408d-544e-48c8-8370-c98052cb6d35",
   "metadata": {},
   "outputs": [],
   "source": []
  }
 ],
 "metadata": {
  "kernelspec": {
   "display_name": "Python 3 (ipykernel)",
   "language": "python",
   "name": "python3"
  },
  "language_info": {
   "codemirror_mode": {
    "name": "ipython",
    "version": 3
   },
   "file_extension": ".py",
   "mimetype": "text/x-python",
   "name": "python",
   "nbconvert_exporter": "python",
   "pygments_lexer": "ipython3",
   "version": "3.12.7"
  }
 },
 "nbformat": 4,
 "nbformat_minor": 5
}
