{
 "cells": [
  {
   "cell_type": "markdown",
   "id": "463fe027-4244-4b47-8add-ef8a9fec8ccc",
   "metadata": {},
   "source": [
    "Belajar Numpy"
   ]
  },
  {
   "cell_type": "markdown",
   "id": "0961872b-d394-451e-a0f2-9aaf1a101389",
   "metadata": {},
   "source": [
    "Numpy adalah pustaka python open source yang digunakan hampir disemua bidang data science, Numpy itu kegunaanya untuk melakukan operasi matematika, dapat dikolaborasikan dengan library lain. Pada intinya Numpy dapat membuat multidimensi list atau matriks. "
   ]
  },
  {
   "cell_type": "markdown",
   "id": "c6e16fb5-62ac-47c1-833e-b4065da65efb",
   "metadata": {},
   "source": [
    "1. Cara menginstal Numpy"
   ]
  },
  {
   "cell_type": "code",
   "execution_count": 19,
   "id": "0a25c2c6-1d0e-48c1-a769-3b22310929c8",
   "metadata": {},
   "outputs": [
    {
     "name": "stdout",
     "output_type": "stream",
     "text": [
      "1.26.4\n"
     ]
    }
   ],
   "source": [
    "import numpy\n",
    "print(numpy.__version__)"
   ]
  },
  {
   "cell_type": "markdown",
   "id": "eca46b81-59ea-484c-a618-3afe1accf606",
   "metadata": {},
   "source": [
    "Basic dari numpy adalah array. Array itu apa?"
   ]
  },
  {
   "cell_type": "markdown",
   "id": "a6c07ab1-4a74-4850-ad33-a7afa2a0b253",
   "metadata": {},
   "source": [
    "Array"
   ]
  },
  {
   "cell_type": "markdown",
   "id": "9f419fc6-5a95-47de-98a4-8f3573eeca2f",
   "metadata": {},
   "source": [
    "Basic untuk pembuatan array dengan numpy"
   ]
  },
  {
   "cell_type": "code",
   "execution_count": 3,
   "id": "66915dd7-4fb5-4a08-96d1-efd046d54c20",
   "metadata": {},
   "outputs": [],
   "source": [
    "import numpy as np #kolom sudah aktiv dan berjalan"
   ]
  },
  {
   "cell_type": "code",
   "execution_count": 5,
   "id": "224aba8b-8f9e-4b8d-90b3-933d5bace019",
   "metadata": {},
   "outputs": [
    {
     "data": {
      "text/plain": [
       "array([1, 2, 3])"
      ]
     },
     "execution_count": 5,
     "metadata": {},
     "output_type": "execute_result"
    }
   ],
   "source": [
    "#untuk membuat kita menggunakan np.array()\n",
    "a = np.array([1,2,3])\n",
    "a"
   ]
  },
  {
   "cell_type": "code",
   "execution_count": 9,
   "id": "550821e9-a2dc-4bc6-9e39-e670efee7cc6",
   "metadata": {},
   "outputs": [
    {
     "data": {
      "text/plain": [
       "array([0., 0., 0., 0., 0., 0., 0., 0., 0., 0.])"
      ]
     },
     "execution_count": 9,
     "metadata": {},
     "output_type": "execute_result"
    }
   ],
   "source": [
    "#array isinya 0 sebanyak 5\n",
    "b = np.zeros(10)\n",
    "b"
   ]
  },
  {
   "cell_type": "code",
   "execution_count": 11,
   "id": "6e0675dc-be41-46f2-8bc9-3c4253fa3a33",
   "metadata": {},
   "outputs": [
    {
     "data": {
      "text/plain": [
       "array([1., 1., 1., 1., 1., 1., 1., 1., 1., 1.])"
      ]
     },
     "execution_count": 11,
     "metadata": {},
     "output_type": "execute_result"
    }
   ],
   "source": [
    "#array isinya 1 sebanyak 5 kali\n",
    "c = np.ones(10)\n",
    "c"
   ]
  },
  {
   "cell_type": "code",
   "execution_count": 12,
   "id": "6bc5dbe0-9709-4453-90ef-5e2db7440d43",
   "metadata": {},
   "outputs": [],
   "source": [
    "#array kosong np.empty"
   ]
  },
  {
   "cell_type": "code",
   "execution_count": 16,
   "id": "a5703ae2-5fc5-4e79-8d7c-dc905e994318",
   "metadata": {},
   "outputs": [
    {
     "data": {
      "text/plain": [
       "array([0, 1, 2, 3])"
      ]
     },
     "execution_count": 16,
     "metadata": {},
     "output_type": "execute_result"
    }
   ],
   "source": [
    "#(start, stop, step)\n",
    "#for i in range (1,11,2)\n",
    "#arange (start, stop, step)\n",
    "d = np.arange(4)\n",
    "d"
   ]
  },
  {
   "cell_type": "code",
   "execution_count": 57,
   "id": "f18460e0-4407-4c3b-8930-bfd9a69e25c3",
   "metadata": {},
   "outputs": [
    {
     "data": {
      "text/plain": [
       "array([ 1, 11, 21, 31, 41, 51, 61, 71, 81, 91])"
      ]
     },
     "execution_count": 57,
     "metadata": {},
     "output_type": "execute_result"
    }
   ],
   "source": [
    "np.arange(1,100,10)"
   ]
  },
  {
   "cell_type": "code",
   "execution_count": 19,
   "id": "67d35f11-7ebf-4965-a026-372bd02504db",
   "metadata": {},
   "outputs": [
    {
     "data": {
      "text/plain": [
       "array([1, 3, 5, 7, 9])"
      ]
     },
     "execution_count": 19,
     "metadata": {},
     "output_type": "execute_result"
    }
   ],
   "source": [
    "np.arange(1,11,2)"
   ]
  },
  {
   "cell_type": "markdown",
   "id": "7647c475-d2fd-42d0-8879-8a06f66f037f",
   "metadata": {},
   "source": [
    "Tambah array, hapus array, dan mengurutkan array"
   ]
  },
  {
   "cell_type": "markdown",
   "id": "9c52e31b-5501-4ea4-b713-55418aefd958",
   "metadata": {},
   "source": [
    "Menambahkan data kedalam Array"
   ]
  },
  {
   "cell_type": "code",
   "execution_count": 31,
   "id": "0e0c9395-04a4-4318-b4dd-2ca20868fc77",
   "metadata": {},
   "outputs": [
    {
     "data": {
      "text/plain": [
       "array([  7,   3,  11,   4,  18,  99, 100])"
      ]
     },
     "execution_count": 31,
     "metadata": {},
     "output_type": "execute_result"
    }
   ],
   "source": [
    "#np.append()\n",
    "array1 = np.array([7,3,11,4,18])\n",
    "array1 = np.append(array1,[99,100])\n",
    "array1"
   ]
  },
  {
   "cell_type": "markdown",
   "id": "a24f7646-59cf-45ec-b156-955f6a79902a",
   "metadata": {},
   "source": [
    "Remove"
   ]
  },
  {
   "cell_type": "code",
   "execution_count": 33,
   "id": "7d93aed6-c087-4c30-92fe-aaadbc09f4c7",
   "metadata": {},
   "outputs": [
    {
     "data": {
      "text/plain": [
       "array([  7,   3,  11,   4,  18,  99, 100])"
      ]
     },
     "execution_count": 33,
     "metadata": {},
     "output_type": "execute_result"
    }
   ],
   "source": [
    "array1"
   ]
  },
  {
   "cell_type": "code",
   "execution_count": 37,
   "id": "4add22f9-b4ce-4b9a-9b5f-871e5895a57f",
   "metadata": {},
   "outputs": [
    {
     "data": {
      "text/plain": [
       "array([  7,   3,   4,  18,  99, 100])"
      ]
     },
     "execution_count": 37,
     "metadata": {},
     "output_type": "execute_result"
    }
   ],
   "source": [
    "array1_hapus = np.delete(array1,2)\n",
    "array1_hapus"
   ]
  },
  {
   "cell_type": "markdown",
   "id": "b6064e92-92cc-4ab4-a198-7b7653cc7726",
   "metadata": {},
   "source": [
    "Sort"
   ]
  },
  {
   "cell_type": "code",
   "execution_count": 41,
   "id": "ded43d2b-cce6-489f-a8c6-3427e0d82d8c",
   "metadata": {},
   "outputs": [
    {
     "data": {
      "text/plain": [
       "array([  3,   4,   7,  11,  18,  99, 100])"
      ]
     },
     "execution_count": 41,
     "metadata": {},
     "output_type": "execute_result"
    }
   ],
   "source": [
    "np.sort(array1)"
   ]
  },
  {
   "cell_type": "markdown",
   "id": "4d83a1b6-9114-479c-8029-b1845417426b",
   "metadata": {},
   "source": [
    "Array 2Dimensi"
   ]
  },
  {
   "cell_type": "code",
   "execution_count": 44,
   "id": "b1f0f9dc-35d0-45c6-8412-9a0df78dffa4",
   "metadata": {},
   "outputs": [
    {
     "data": {
      "text/plain": [
       "array([2, 3, 4, 5, 6, 7])"
      ]
     },
     "execution_count": 44,
     "metadata": {},
     "output_type": "execute_result"
    }
   ],
   "source": [
    "#cirikhas dari dimensi\n",
    "#satu dimensi\n",
    "array_baru = np.array([2,3,4,5,6,7])\n",
    "array_baru"
   ]
  },
  {
   "cell_type": "markdown",
   "id": "015293f7-ea9f-4c3f-9190-8451703e5637",
   "metadata": {},
   "source": []
  },
  {
   "cell_type": "code",
   "execution_count": 8,
   "id": "afd583ab-ec88-4de4-9a96-268077f122f9",
   "metadata": {},
   "outputs": [
    {
     "data": {
      "text/plain": [
       "array([[ 1,  2,  3,  3],\n",
       "       [ 4,  5,  6,  0],\n",
       "       [ 4,  2,  1,  2],\n",
       "       [11, 10,  4,  3]])"
      ]
     },
     "execution_count": 8,
     "metadata": {},
     "output_type": "execute_result"
    }
   ],
   "source": [
    "#dua dimensi\n",
    "array_2d = np.array([\n",
    "                    [1,2,3,3],  #baris 0\n",
    "                    [4,5,6,0],  #baris 1\n",
    "                    [4,2,1,2],  #baris 2\n",
    "                    [11,10,4,3] ##baris 3\n",
    "                   ])\n",
    "array_2d"
   ]
  },
  {
   "cell_type": "code",
   "execution_count": 9,
   "id": "ab6544cc-5846-448a-a911-0a95fb072e3e",
   "metadata": {},
   "outputs": [
    {
     "data": {
      "text/plain": [
       "array([11, 10,  4,  3])"
      ]
     },
     "execution_count": 9,
     "metadata": {},
     "output_type": "execute_result"
    }
   ],
   "source": [
    "#mau mengakses ROW/BARIS\n",
    "array_2d[3]"
   ]
  },
  {
   "cell_type": "code",
   "execution_count": 13,
   "id": "d05c3494-eb4b-449b-9f85-35595dbbf5d5",
   "metadata": {},
   "outputs": [
    {
     "data": {
      "text/plain": [
       "6"
      ]
     },
     "execution_count": 13,
     "metadata": {},
     "output_type": "execute_result"
    }
   ],
   "source": [
    "#mau mengakses baris dan kolom\n",
    "array_2d[1,2]"
   ]
  },
  {
   "cell_type": "code",
   "execution_count": 15,
   "id": "c0f34a61-7922-4f04-b8f2-ad6382b0ce91",
   "metadata": {},
   "outputs": [
    {
     "data": {
      "text/plain": [
       "array([3, 6, 1, 4])"
      ]
     },
     "execution_count": 15,
     "metadata": {},
     "output_type": "execute_result"
    }
   ],
   "source": [
    "#mau mengakses kolom saja\n",
    "array_2d[:,2] #kolom 3"
   ]
  },
  {
   "cell_type": "code",
   "execution_count": 16,
   "id": "a02236ca-a164-476c-b119-53c886dc8337",
   "metadata": {},
   "outputs": [
    {
     "data": {
      "text/plain": [
       "array([ 1,  4,  4, 11])"
      ]
     },
     "execution_count": 16,
     "metadata": {},
     "output_type": "execute_result"
    }
   ],
   "source": [
    "#mau mengakses kolom saja\n",
    "array_2d[:,0] #kolom 1"
   ]
  },
  {
   "cell_type": "code",
   "execution_count": 17,
   "id": "4c57803c-127c-42a3-8414-74dfa92341ae",
   "metadata": {},
   "outputs": [
    {
     "data": {
      "text/plain": [
       "array([[ 1,  3],\n",
       "       [ 4,  6],\n",
       "       [ 4,  1],\n",
       "       [11,  4]])"
      ]
     },
     "execution_count": 17,
     "metadata": {},
     "output_type": "execute_result"
    }
   ],
   "source": [
    "#mau mengakses 2 kolom\n",
    "array_2d[:,[0,2]] #kolom 1 dan 3"
   ]
  },
  {
   "cell_type": "code",
   "execution_count": 18,
   "id": "41800349-461b-4b30-a979-1577204b2618",
   "metadata": {},
   "outputs": [
    {
     "data": {
      "text/plain": [
       "array([[ 1,  2],\n",
       "       [ 4,  5],\n",
       "       [ 4,  2],\n",
       "       [11, 10]])"
      ]
     },
     "execution_count": 18,
     "metadata": {},
     "output_type": "execute_result"
    }
   ],
   "source": [
    "array_2d[:,[0,1]]"
   ]
  },
  {
   "cell_type": "markdown",
   "id": "59fff904-bc7b-4b5b-a018-3daddcd3db10",
   "metadata": {},
   "source": [
    "ini untuk reshape"
   ]
  },
  {
   "cell_type": "code",
   "execution_count": 6,
   "id": "1f433d0c-55bf-4faf-96b4-9a7d2eba86b8",
   "metadata": {},
   "outputs": [
    {
     "data": {
      "text/plain": [
       "array([0, 1, 2, 3, 4, 5])"
      ]
     },
     "execution_count": 6,
     "metadata": {},
     "output_type": "execute_result"
    }
   ],
   "source": [
    "d = np.arange(6)\n",
    "d #1 baris 6 kolom"
   ]
  },
  {
   "cell_type": "code",
   "execution_count": 7,
   "id": "5aded42c-15a6-4890-9651-7a89e7dd7d28",
   "metadata": {},
   "outputs": [
    {
     "data": {
      "text/plain": [
       "array([[0, 1],\n",
       "       [2, 3],\n",
       "       [4, 5]])"
      ]
     },
     "execution_count": 7,
     "metadata": {},
     "output_type": "execute_result"
    }
   ],
   "source": [
    "d_reshape = d.reshape(3,2)\n",
    "d_reshape"
   ]
  },
  {
   "cell_type": "code",
   "execution_count": 49,
   "id": "7fecf238-c0e1-4e5e-aa10-a588b1f422bc",
   "metadata": {},
   "outputs": [],
   "source": [
    "#tugas mini quiz\n",
    "#1. buatlah array yang berisikan nilai 1-1000 dengan step bernilai 10\n",
    "#2. buatlah array yang berisikan bilangan genap dari 0-10 lalu tambahkan nilai 100 didalam listnya \n",
    "#3. buatlah array bernilai 0 sebanyak 20 kali "
   ]
  },
  {
   "cell_type": "code",
   "execution_count": 60,
   "id": "59bb79ed-c01d-467b-9a5b-a41e380b5cb7",
   "metadata": {},
   "outputs": [
    {
     "data": {
      "text/plain": [
       "array([  1,  11,  21,  31,  41,  51,  61,  71,  81,  91, 101, 111, 121,\n",
       "       131, 141, 151, 161, 171, 181, 191, 201, 211, 221, 231, 241, 251,\n",
       "       261, 271, 281, 291, 301, 311, 321, 331, 341, 351, 361, 371, 381,\n",
       "       391, 401, 411, 421, 431, 441, 451, 461, 471, 481, 491, 501, 511,\n",
       "       521, 531, 541, 551, 561, 571, 581, 591, 601, 611, 621, 631, 641,\n",
       "       651, 661, 671, 681, 691, 701, 711, 721, 731, 741, 751, 761, 771,\n",
       "       781, 791, 801, 811, 821, 831, 841, 851, 861, 871, 881, 891, 901,\n",
       "       911, 921, 931, 941, 951, 961, 971, 981, 991])"
      ]
     },
     "execution_count": 60,
     "metadata": {},
     "output_type": "execute_result"
    }
   ],
   "source": [
    "s = np.arange(1,1000,10)\n",
    "s"
   ]
  },
  {
   "cell_type": "code",
   "execution_count": 53,
   "id": "172e3c07-6316-4977-b068-317d59342a7d",
   "metadata": {},
   "outputs": [
    {
     "data": {
      "text/plain": [
       "array([  2,   4,   6,   8,  10, 100])"
      ]
     },
     "execution_count": 53,
     "metadata": {},
     "output_type": "execute_result"
    }
   ],
   "source": [
    "x = np.array([2,4,6,8,10])\n",
    "x = np.append(x,[100])\n",
    "x"
   ]
  },
  {
   "cell_type": "code",
   "execution_count": 56,
   "id": "093cb4fd-b23f-464d-8a44-de6e0b64d4da",
   "metadata": {},
   "outputs": [
    {
     "data": {
      "text/plain": [
       "array([0., 0., 0., 0., 0., 0., 0., 0., 0., 0., 0., 0., 0., 0., 0., 0., 0.,\n",
       "       0., 0., 0.])"
      ]
     },
     "execution_count": 56,
     "metadata": {},
     "output_type": "execute_result"
    }
   ],
   "source": [
    "z = np.zeros(20)\n",
    "z"
   ]
  },
  {
   "cell_type": "markdown",
   "id": "1315765f-0510-4567-8d23-809b54fbc12e",
   "metadata": {},
   "source": [
    "Indexing dan Slicing "
   ]
  },
  {
   "cell_type": "code",
   "execution_count": 62,
   "id": "950a445d-73c7-4192-97a3-6f36f243462d",
   "metadata": {},
   "outputs": [
    {
     "data": {
      "text/plain": [
       "array([  2,   3,   4,   6,  32,  11,   5,  12,  77, 100])"
      ]
     },
     "execution_count": 62,
     "metadata": {},
     "output_type": "execute_result"
    }
   ],
   "source": [
    "array3 = np.array([2,3,4,6,32,11,5,12,77,100])\n",
    "array3"
   ]
  },
  {
   "cell_type": "code",
   "execution_count": 64,
   "id": "15e21f23-e847-492c-8cd3-b757a1afbb90",
   "metadata": {},
   "outputs": [
    {
     "name": "stdout",
     "output_type": "stream",
     "text": [
      "[2 3 4]\n"
     ]
    }
   ],
   "source": [
    "print(array3[:-7])"
   ]
  },
  {
   "cell_type": "code",
   "execution_count": 65,
   "id": "c0866abc-301e-4765-a86a-0bdb323246b2",
   "metadata": {},
   "outputs": [
    {
     "name": "stdout",
     "output_type": "stream",
     "text": [
      "nohtyP\n"
     ]
    }
   ],
   "source": [
    "kata = \"Python\"\n",
    "print(kata[::-1]) #reverse"
   ]
  },
  {
   "cell_type": "code",
   "execution_count": 82,
   "id": "67858211-0b1e-4a5f-86fc-a2b53a1cf1e4",
   "metadata": {},
   "outputs": [],
   "source": [
    "#miniQuiz 2 akses mini data\n",
    "array_miniQuiz = np.array([\n",
    "                     [6,12,32,42],  ##baris 0\n",
    "                     [2,232,12,23],  ##baris 1\n",
    "                     [41,22,13,24],  ##baris 2\n",
    "                     [111,210,42,34] ##baris 3\n",
    "                    ])\n",
    "# 1. Tolong berikan output dengan mengakses kolom 2 dan 3\n",
    "# 2. Tolong berikan output dengan mengakes baris 2 dengan elemen data ke 1\n",
    "# 3. Tolong berikan output dengan mengakses bari 1 dan 2"
   ]
  },
  {
   "cell_type": "code",
   "execution_count": 86,
   "id": "77cc7952-763c-48f4-900f-91f8bdc87cf8",
   "metadata": {},
   "outputs": [
    {
     "data": {
      "text/plain": [
       "array([[32, 42],\n",
       "       [12, 23],\n",
       "       [13, 24],\n",
       "       [42, 34]])"
      ]
     },
     "execution_count": 86,
     "metadata": {},
     "output_type": "execute_result"
    }
   ],
   "source": [
    "array_miniQuiz[:,[2,3]]"
   ]
  },
  {
   "cell_type": "code",
   "execution_count": 87,
   "id": "27d38070-8230-4b9c-9e72-80fd8ecb9ff3",
   "metadata": {},
   "outputs": [
    {
     "data": {
      "text/plain": [
       "22"
      ]
     },
     "execution_count": 87,
     "metadata": {},
     "output_type": "execute_result"
    }
   ],
   "source": [
    "array_miniQuiz[2,1]"
   ]
  },
  {
   "cell_type": "code",
   "execution_count": 89,
   "id": "59221e01-7d02-448a-b9fb-c0ed9f3fa717",
   "metadata": {},
   "outputs": [
    {
     "data": {
      "text/plain": [
       "array([[  2, 232,  12,  23],\n",
       "       [ 41,  22,  13,  24]])"
      ]
     },
     "execution_count": 89,
     "metadata": {},
     "output_type": "execute_result"
    }
   ],
   "source": [
    "array_miniQuiz[1:3]"
   ]
  },
  {
   "cell_type": "code",
   "execution_count": null,
   "id": "27fc1889-1c1a-4f0a-a392-19af14c527a6",
   "metadata": {},
   "outputs": [],
   "source": [
    "#miniquiz slicing\n",
    "#1. Aku punya kata \"NGODING\" ---> DING\n",
    "#2. Aku punya kata \"Kereta\" ---> RETA\n",
    "#3. Aku punya kata \"JAUH\" ---> huaj"
   ]
  },
  {
   "cell_type": "code",
   "execution_count": 91,
   "id": "9ce8807a-3499-47eb-948b-3b49296b64e7",
   "metadata": {},
   "outputs": [
    {
     "data": {
      "text/plain": [
       "'DING'"
      ]
     },
     "execution_count": 91,
     "metadata": {},
     "output_type": "execute_result"
    }
   ],
   "source": [
    "word = \"NGODING\"\n",
    "word.replace(\"NGO\",\"\")"
   ]
  },
  {
   "cell_type": "code",
   "execution_count": 97,
   "id": "463e5e09-2852-4ecd-bcdc-4b33b8ce3df3",
   "metadata": {},
   "outputs": [
    {
     "data": {
      "text/plain": [
       "'RETA'"
      ]
     },
     "execution_count": 97,
     "metadata": {},
     "output_type": "execute_result"
    }
   ],
   "source": [
    "word1 = \"Kereta\"\n",
    "word1.replace(\"Ke\",\"\").upper()"
   ]
  },
  {
   "cell_type": "code",
   "execution_count": 102,
   "id": "cc7e8929-5028-4e54-a2e2-f9de5c068acc",
   "metadata": {},
   "outputs": [
    {
     "data": {
      "text/plain": [
       "'huaj'"
      ]
     },
     "execution_count": 102,
     "metadata": {},
     "output_type": "execute_result"
    }
   ],
   "source": [
    "word2 = \"JAUH\"\n",
    "word2[::-1].lower()"
   ]
  },
  {
   "cell_type": "markdown",
   "id": "3cd59b4b-17c2-4364-bac0-9bae6e5ed6ec",
   "metadata": {},
   "source": [
    "shape and size"
   ]
  },
  {
   "cell_type": "code",
   "execution_count": 20,
   "id": "fb7d5002-0075-4dfc-ae54-50fefad5acd3",
   "metadata": {},
   "outputs": [
    {
     "data": {
      "text/plain": [
       "array([[ 9,  8,  5,  4],\n",
       "       [10, 11, 12, 13],\n",
       "       [ 6,  8,  7,  4],\n",
       "       [ 2,  3,  4,  5]])"
      ]
     },
     "execution_count": 20,
     "metadata": {},
     "output_type": "execute_result"
    }
   ],
   "source": [
    "array_example = np.array([[9,8,5,4],\n",
    "                         [10,11,12,13],\n",
    "                         [6,8,7,4],\n",
    "                         [2,3,4,5]\n",
    "                        ])\n",
    "array_example"
   ]
  },
  {
   "cell_type": "markdown",
   "id": "ae0417f1-cded-463d-a126-acce8c18ccca",
   "metadata": {},
   "source": [
    "Mengecek dimensi"
   ]
  },
  {
   "cell_type": "code",
   "execution_count": 21,
   "id": "285d3b5a-8ac1-4696-a8e5-149b0403b967",
   "metadata": {},
   "outputs": [
    {
     "data": {
      "text/plain": [
       "2"
      ]
     },
     "execution_count": 21,
     "metadata": {},
     "output_type": "execute_result"
    }
   ],
   "source": [
    "array_example.ndim"
   ]
  },
  {
   "cell_type": "code",
   "execution_count": 24,
   "id": "dd832951-b3d7-4bea-ada5-51a686498f35",
   "metadata": {},
   "outputs": [
    {
     "data": {
      "text/plain": [
       "1"
      ]
     },
     "execution_count": 24,
     "metadata": {},
     "output_type": "execute_result"
    }
   ],
   "source": [
    "sample_array = np.array([1,2,3,4])\n",
    "sample_array.ndim"
   ]
  },
  {
   "cell_type": "markdown",
   "id": "4ceacf98-d443-48b4-bae3-25594d0b42d7",
   "metadata": {},
   "source": [
    "Mengecek ukuran data"
   ]
  },
  {
   "cell_type": "code",
   "execution_count": 25,
   "id": "18e9d240-bfa8-4abe-9988-4e7de5ed2754",
   "metadata": {},
   "outputs": [
    {
     "data": {
      "text/plain": [
       "16"
      ]
     },
     "execution_count": 25,
     "metadata": {},
     "output_type": "execute_result"
    }
   ],
   "source": [
    "array_example.size"
   ]
  },
  {
   "cell_type": "code",
   "execution_count": 26,
   "id": "a0ab426d-3dfd-448f-8891-a552328c45df",
   "metadata": {},
   "outputs": [
    {
     "data": {
      "text/plain": [
       "4"
      ]
     },
     "execution_count": 26,
     "metadata": {},
     "output_type": "execute_result"
    }
   ],
   "source": [
    "sample_array.size"
   ]
  },
  {
   "cell_type": "markdown",
   "id": "5882c8db-843d-4e52-869f-ba80fa620c79",
   "metadata": {},
   "source": [
    "Mengecek jumlah baris dan kolom"
   ]
  },
  {
   "cell_type": "code",
   "execution_count": 27,
   "id": "f72887c6-b6c1-43c9-8b3a-feb9e654ec40",
   "metadata": {},
   "outputs": [
    {
     "data": {
      "text/plain": [
       "(4, 4)"
      ]
     },
     "execution_count": 27,
     "metadata": {},
     "output_type": "execute_result"
    }
   ],
   "source": [
    "#shape --> digit 1 (baris) digit 2 (kolom)\n",
    "array_example.shape"
   ]
  },
  {
   "cell_type": "markdown",
   "id": "a0d20459-3cff-421a-8b49-608601d47a30",
   "metadata": {},
   "source": [
    "Re-shape"
   ]
  },
  {
   "cell_type": "code",
   "execution_count": 29,
   "id": "e78ca0a0-7de3-4c5b-9e6f-2cab6c3ae9db",
   "metadata": {},
   "outputs": [
    {
     "data": {
      "text/plain": [
       "array([0, 1, 2, 3, 4, 5])"
      ]
     },
     "execution_count": 29,
     "metadata": {},
     "output_type": "execute_result"
    }
   ],
   "source": [
    "a = np.arange(6)\n",
    "a"
   ]
  },
  {
   "cell_type": "code",
   "execution_count": 38,
   "id": "bc54d25f-15a0-4426-9eec-669b65d911d3",
   "metadata": {},
   "outputs": [
    {
     "name": "stdout",
     "output_type": "stream",
     "text": [
      "(3, 2)\n",
      "[[0 1]\n",
      " [2 3]\n",
      " [4 5]]\n"
     ]
    }
   ],
   "source": [
    "b = a.reshape(3,2)\n",
    "print(b.shape)\n",
    "print(b)"
   ]
  },
  {
   "cell_type": "code",
   "execution_count": 39,
   "id": "2111acf1-54c1-454a-ad23-85aad00e408b",
   "metadata": {},
   "outputs": [
    {
     "name": "stdout",
     "output_type": "stream",
     "text": [
      "(2, 3)\n",
      "[[0 1 2]\n",
      " [3 4 5]]\n"
     ]
    }
   ],
   "source": [
    "c = a.reshape(2,3)\n",
    "print(c.shape)\n",
    "print(c)"
   ]
  },
  {
   "cell_type": "code",
   "execution_count": 40,
   "id": "cd698734-e100-488c-8884-9adf2d2cec02",
   "metadata": {},
   "outputs": [
    {
     "name": "stdout",
     "output_type": "stream",
     "text": [
      "(6, 1)\n",
      "[[0]\n",
      " [1]\n",
      " [2]\n",
      " [3]\n",
      " [4]\n",
      " [5]]\n"
     ]
    }
   ],
   "source": [
    "d = a.reshape(6,1)\n",
    "print(d.shape)\n",
    "print(d)"
   ]
  },
  {
   "cell_type": "markdown",
   "id": "971cee8b-e5b9-491b-a39a-5d43d335cc42",
   "metadata": {},
   "source": [
    "CONVERT 1D to 2D, 2D to 1D"
   ]
  },
  {
   "cell_type": "code",
   "execution_count": 47,
   "id": "feaa1bdc-5dcb-47f7-afcf-78defe97a63c",
   "metadata": {},
   "outputs": [
    {
     "name": "stdout",
     "output_type": "stream",
     "text": [
      "(6,)\n",
      "[0 1 2 3 4 5]\n"
     ]
    }
   ],
   "source": [
    "print(a.shape)\n",
    "print(a) # a hanya memuat 6 data\n",
    "#1,2,3,4,5,6\n",
    "#variable yang isinya 6 data "
   ]
  },
  {
   "cell_type": "code",
   "execution_count": 46,
   "id": "fe2770e5-55cf-4b6f-b426-2e9ef3483039",
   "metadata": {},
   "outputs": [
    {
     "name": "stdout",
     "output_type": "stream",
     "text": [
      "Jumlah baris dan kolom :  (1, 6)\n",
      "Dimensi array saat ini :  2\n",
      "[[0 1 2 3 4 5]]\n"
     ]
    }
   ],
   "source": [
    "a2 = a[np.newaxis]\n",
    "print(\"Jumlah baris dan kolom : \",a2.shape)\n",
    "print(\"Dimensi array saat ini : \",a2.ndim)\n",
    "print(a2)"
   ]
  },
  {
   "cell_type": "markdown",
   "id": "a72e23ff-1030-491e-979c-209fe9040790",
   "metadata": {},
   "source": [
    "Ubah 2D ke 1D"
   ]
  },
  {
   "cell_type": "code",
   "execution_count": 48,
   "id": "31e43e09-5993-4d84-bea4-0e43575fa8b2",
   "metadata": {},
   "outputs": [
    {
     "data": {
      "text/plain": [
       "array([ 9,  8,  5,  4, 10, 11, 12, 13,  6,  8,  7,  4,  2,  3,  4,  5])"
      ]
     },
     "execution_count": 48,
     "metadata": {},
     "output_type": "execute_result"
    }
   ],
   "source": [
    "array_example2 = array_example.flatten()\n",
    "array_example2"
   ]
  },
  {
   "cell_type": "code",
   "execution_count": 52,
   "id": "0a6ca868-76eb-422e-a48d-7f5fa69324a5",
   "metadata": {},
   "outputs": [
    {
     "data": {
      "text/plain": [
       "(4, 4)"
      ]
     },
     "execution_count": 52,
     "metadata": {},
     "output_type": "execute_result"
    }
   ],
   "source": [
    "array_example.shape"
   ]
  },
  {
   "cell_type": "code",
   "execution_count": 53,
   "id": "326ced40-caa5-4240-9331-37ebe5d7caef",
   "metadata": {},
   "outputs": [
    {
     "data": {
      "text/plain": [
       "(16,)"
      ]
     },
     "execution_count": 53,
     "metadata": {},
     "output_type": "execute_result"
    }
   ],
   "source": [
    "array_example2.shape"
   ]
  },
  {
   "cell_type": "markdown",
   "id": "49196d0f-ffbd-410f-8fcf-d757266703b2",
   "metadata": {},
   "source": [
    "Logical Numpy"
   ]
  },
  {
   "cell_type": "code",
   "execution_count": 54,
   "id": "7fda86bf-5364-4582-9638-97e3702fc0af",
   "metadata": {},
   "outputs": [
    {
     "data": {
      "text/plain": [
       "array([[ 9,  8,  5,  4],\n",
       "       [10, 11, 12, 13],\n",
       "       [ 6,  8,  7,  4],\n",
       "       [ 2,  3,  4,  5]])"
      ]
     },
     "execution_count": 54,
     "metadata": {},
     "output_type": "execute_result"
    }
   ],
   "source": [
    "array_example"
   ]
  },
  {
   "cell_type": "code",
   "execution_count": 55,
   "id": "f911eabe-50ca-43bb-abb8-31aab4035165",
   "metadata": {},
   "outputs": [
    {
     "data": {
      "text/plain": [
       "array([[ True,  True, False, False],\n",
       "       [ True,  True,  True,  True],\n",
       "       [False,  True, False, False],\n",
       "       [False, False, False, False]])"
      ]
     },
     "execution_count": 55,
     "metadata": {},
     "output_type": "execute_result"
    }
   ],
   "source": [
    "array_example>7"
   ]
  },
  {
   "cell_type": "code",
   "execution_count": 64,
   "id": "b2d640ef-b1e2-4cf5-8bf5-c28e5c94b5e2",
   "metadata": {},
   "outputs": [
    {
     "name": "stdout",
     "output_type": "stream",
     "text": [
      "[ 9  8 10 11 12 13  8]\n",
      "1\n",
      "(7,)\n",
      "7\n"
     ]
    }
   ],
   "source": [
    "#metode 1\n",
    "print(array_example[array_example>7])\n",
    "print(array_example[array_example>7].ndim)\n",
    "print(array_example[array_example>7].shape)\n",
    "print(array_example[array_example>7].size)"
   ]
  },
  {
   "cell_type": "code",
   "execution_count": 65,
   "id": "edc16c3b-dbb2-4619-a697-9b0c39601685",
   "metadata": {},
   "outputs": [
    {
     "name": "stdout",
     "output_type": "stream",
     "text": [
      "[ 9  8 10 11 12 13  8]\n"
     ]
    }
   ],
   "source": [
    "#metode 2 \n",
    "seven_up = (array_example>7)\n",
    "print(array_example[seven_up])"
   ]
  },
  {
   "cell_type": "code",
   "execution_count": 67,
   "id": "b69e3f47-5153-4a87-99b2-e64953df0664",
   "metadata": {},
   "outputs": [
    {
     "data": {
      "text/plain": [
       "array([0, 1, 2, 3, 4, 5, 6, 7, 8, 9])"
      ]
     },
     "execution_count": 67,
     "metadata": {},
     "output_type": "execute_result"
    }
   ],
   "source": [
    "d = np.arange(10)\n",
    "d"
   ]
  },
  {
   "cell_type": "code",
   "execution_count": 69,
   "id": "460a80fa-abdf-4372-acbf-b5a84fc9c58d",
   "metadata": {},
   "outputs": [
    {
     "name": "stdout",
     "output_type": "stream",
     "text": [
      "[0 2 4 6 8]\n"
     ]
    }
   ],
   "source": [
    "bilangan_genap = (d%2==0)\n",
    "print(d[bilangan_genap])"
   ]
  },
  {
   "cell_type": "code",
   "execution_count": 71,
   "id": "41fe6e93-b71b-45a5-9c92-a1d3c9a0cc26",
   "metadata": {},
   "outputs": [
    {
     "data": {
      "text/plain": [
       "array([0, 2, 4, 6, 8])"
      ]
     },
     "execution_count": 71,
     "metadata": {},
     "output_type": "execute_result"
    }
   ],
   "source": [
    "#metode 3\n",
    "bilangan_genap2 = d[d%2==0]\n",
    "bilangan_genap2"
   ]
  },
  {
   "cell_type": "code",
   "execution_count": 72,
   "id": "5d0b0bb5-a0ea-4fff-96ba-642f9e1582e7",
   "metadata": {},
   "outputs": [
    {
     "data": {
      "text/plain": [
       "array([3, 4, 5, 6, 7, 8, 9])"
      ]
     },
     "execution_count": 72,
     "metadata": {},
     "output_type": "execute_result"
    }
   ],
   "source": [
    "#d > 2 dan d<11\n",
    "#12 < age <15\n",
    "#operator and(&)\n",
    "dobel_logic = d[(d>2) & (d<11)]\n",
    "dobel_logic"
   ]
  },
  {
   "cell_type": "code",
   "execution_count": 73,
   "id": "2fef9485-8a57-4550-9f49-344a4eeb8435",
   "metadata": {},
   "outputs": [
    {
     "data": {
      "text/plain": [
       "array([0, 1, 2, 3, 4, 5, 6, 7, 8, 9])"
      ]
     },
     "execution_count": 73,
     "metadata": {},
     "output_type": "execute_result"
    }
   ],
   "source": [
    "dobel_logic2= d[(d>2) | (d<11)]\n",
    "dobel_logic2"
   ]
  },
  {
   "cell_type": "code",
   "execution_count": 76,
   "id": "8e8a9420-e329-4f5d-b834-90feaeac7c0d",
   "metadata": {},
   "outputs": [
    {
     "name": "stdout",
     "output_type": "stream",
     "text": [
      "Anak\n"
     ]
    }
   ],
   "source": [
    "age = 17\n",
    "if (age < 12) and (age>15):\n",
    "    print(\"Remaja\")\n",
    "else:\n",
    "    print(\"Anak\")\n",
    "\n",
    "#and --> python, &--> numpy ===> ketika salah satu kondisi tidak terpenuhi maka dia akan FALSE\n",
    "#or ---> ketika salah satu kondisi terpenuhi, TRUE--> eksekusi code"
   ]
  },
  {
   "cell_type": "code",
   "execution_count": 86,
   "id": "5fbbe005-953e-4edf-a180-64b53a575375",
   "metadata": {},
   "outputs": [
    {
     "name": "stdout",
     "output_type": "stream",
     "text": [
      "False\n"
     ]
    }
   ],
   "source": [
    "#b = 15\n",
    "#if (a<14) and (a>10) # True or False\n",
    "print((b<14) and (b>10))\n",
    "#if (a>12) or (a<21) # True or False"
   ]
  },
  {
   "cell_type": "markdown",
   "id": "c4896f1a-1fde-4b6f-b188-75c11f9d9c0b",
   "metadata": {},
   "source": [
    "Creating array from existing data"
   ]
  },
  {
   "cell_type": "code",
   "execution_count": 88,
   "id": "ecdc5a00-bd6d-421d-9579-184fcdff5f08",
   "metadata": {},
   "outputs": [
    {
     "data": {
      "text/plain": [
       "array([0, 1, 2, 3, 4, 5, 6, 7, 8, 9])"
      ]
     },
     "execution_count": 88,
     "metadata": {},
     "output_type": "execute_result"
    }
   ],
   "source": [
    "e = np.arange(10)\n",
    "e"
   ]
  },
  {
   "cell_type": "code",
   "execution_count": 89,
   "id": "5e150256-9280-4dbd-9009-fc045c86fd56",
   "metadata": {},
   "outputs": [
    {
     "data": {
      "text/plain": [
       "array([0, 1, 2, 3, 4, 5, 6, 7, 8, 9])"
      ]
     },
     "execution_count": 89,
     "metadata": {},
     "output_type": "execute_result"
    }
   ],
   "source": [
    "tampil_e = e.view()\n",
    "tampil_e"
   ]
  },
  {
   "cell_type": "markdown",
   "id": "d555e769-12a9-4d42-9125-8cefebc5255b",
   "metadata": {},
   "source": [
    ".copy() --> Gunanya untuk "
   ]
  },
  {
   "cell_type": "code",
   "execution_count": 91,
   "id": "2518ba26-94eb-4a37-9dc2-89a6caf0e19a",
   "metadata": {},
   "outputs": [
    {
     "data": {
      "text/plain": [
       "array([0, 1, 2, 3, 4, 5, 6, 7, 8, 9])"
      ]
     },
     "execution_count": 91,
     "metadata": {},
     "output_type": "execute_result"
    }
   ],
   "source": [
    "tampil_ecopy = e.copy()\n",
    "tampil_ecopy"
   ]
  },
  {
   "cell_type": "markdown",
   "id": "b32f6702-0ecf-4b78-afdd-30f17faea622",
   "metadata": {},
   "source": [
    "vstack, hstack, hsplit"
   ]
  },
  {
   "cell_type": "code",
   "execution_count": 94,
   "id": "ede8afc6-473c-428c-8088-26281258f892",
   "metadata": {},
   "outputs": [
    {
     "data": {
      "text/plain": [
       "array([[1, 1],\n",
       "       [2, 2]])"
      ]
     },
     "execution_count": 94,
     "metadata": {},
     "output_type": "execute_result"
    }
   ],
   "source": [
    "a_1 = np.array([[1,1],[2,2],])\n",
    "a_1"
   ]
  },
  {
   "cell_type": "code",
   "execution_count": 95,
   "id": "0504f97b-2b5e-4baf-8368-f59150681012",
   "metadata": {},
   "outputs": [
    {
     "data": {
      "text/plain": [
       "array([[5, 6],\n",
       "       [7, 8]])"
      ]
     },
     "execution_count": 95,
     "metadata": {},
     "output_type": "execute_result"
    }
   ],
   "source": [
    "a_2 = np.array([[5,6],[7,8],])\n",
    "a_2"
   ]
  },
  {
   "cell_type": "code",
   "execution_count": 96,
   "id": "02a7f384-9fc3-4c0a-83f8-996f33571f01",
   "metadata": {},
   "outputs": [
    {
     "data": {
      "text/plain": [
       "array([[1, 1],\n",
       "       [2, 2],\n",
       "       [5, 6],\n",
       "       [7, 8]])"
      ]
     },
     "execution_count": 96,
     "metadata": {},
     "output_type": "execute_result"
    }
   ],
   "source": [
    "#vstack --> menggabungkan 2 array menjadi 1 dengan susunan vertikal\n",
    "result_vstack = np.vstack((a_1,a_2))\n",
    "result_vstack"
   ]
  },
  {
   "cell_type": "code",
   "execution_count": 97,
   "id": "d9177e81-6ad3-4867-bbf9-6f034217aa6e",
   "metadata": {},
   "outputs": [
    {
     "data": {
      "text/plain": [
       "(4, 2)"
      ]
     },
     "execution_count": 97,
     "metadata": {},
     "output_type": "execute_result"
    }
   ],
   "source": [
    "result_vstack.shape"
   ]
  },
  {
   "cell_type": "code",
   "execution_count": 99,
   "id": "212e6568-4802-4f68-8faf-26c15bd57bae",
   "metadata": {},
   "outputs": [
    {
     "data": {
      "text/plain": [
       "array([[1, 1, 5, 6],\n",
       "       [2, 2, 7, 8]])"
      ]
     },
     "execution_count": 99,
     "metadata": {},
     "output_type": "execute_result"
    }
   ],
   "source": [
    "#hstack digunakan untuk menggabungkan 2 array menjadi 1 dengan susunan horizontal\n",
    "result_hstack = np.hstack((a_1,a_2))\n",
    "result_hstack"
   ]
  },
  {
   "cell_type": "code",
   "execution_count": 102,
   "id": "b09a8aff-6612-4c03-bfdf-b898738aa0b9",
   "metadata": {},
   "outputs": [
    {
     "name": "stdout",
     "output_type": "stream",
     "text": [
      "[[ 5 10]\n",
      " [ 7  5]\n",
      " [ 6  3]\n",
      " [ 8  4]]\n",
      "[[ 5 10  6  3]\n",
      " [ 7  5  8  4]]\n"
     ]
    }
   ],
   "source": [
    "a_3 = np.array([[5,10],[7,5]])\n",
    "a_4 = np.array([[6,3],[8,4]])\n",
    "\n",
    "vstack_2 = np.vstack((a_3,a_4))\n",
    "hstack_2 = np.hstack((a_3,a_4))\n",
    "print(vstack_2)\n",
    "print(hstack_2)"
   ]
  },
  {
   "cell_type": "markdown",
   "id": "337353ed-faac-4638-ae37-ee7b83eb32ea",
   "metadata": {},
   "source": [
    "Operator matematika numpy"
   ]
  },
  {
   "cell_type": "code",
   "execution_count": 107,
   "id": "ea716379-e643-4a67-8bf2-4627c05b3902",
   "metadata": {},
   "outputs": [
    {
     "data": {
      "text/plain": [
       "array([7, 0, 0])"
      ]
     },
     "execution_count": 107,
     "metadata": {},
     "output_type": "execute_result"
    }
   ],
   "source": [
    "bilangan1 = np.array([8,2,3])\n",
    "bilangan2 = np.array([1,2,3])\n",
    "\n",
    "#pertambahan\n",
    "result_kurang = bilangan1 - bilangan2\n",
    "result_kurang"
   ]
  },
  {
   "cell_type": "code",
   "execution_count": 108,
   "id": "ea1edcf7-fd6c-4078-8f66-b75ac422d95a",
   "metadata": {},
   "outputs": [
    {
     "data": {
      "text/plain": [
       "array([8, 4, 9])"
      ]
     },
     "execution_count": 108,
     "metadata": {},
     "output_type": "execute_result"
    }
   ],
   "source": [
    "#perkalian\n",
    "result_kali = bilangan1 * bilangan2\n",
    "result_kali"
   ]
  },
  {
   "cell_type": "code",
   "execution_count": 109,
   "id": "4d0b1925-8219-4693-bb57-33f7e5bdd152",
   "metadata": {},
   "outputs": [
    {
     "data": {
      "text/plain": [
       "array([8, 1, 1])"
      ]
     },
     "execution_count": 109,
     "metadata": {},
     "output_type": "execute_result"
    }
   ],
   "source": [
    "#pembagian\n",
    "result_bagi = bilangan1 // bilangan2\n",
    "result_bagi"
   ]
  },
  {
   "cell_type": "code",
   "execution_count": 111,
   "id": "29f9e793-4fef-48a3-943d-6d028f9d965a",
   "metadata": {},
   "outputs": [],
   "source": [
    "#Quiz terakhir numpy\n",
    "#soal reshape\n",
    "#array disimpan di variabel z bialngan 1-100 dengan kelipatan 5\n",
    "#ubah lah dari 1d ke 2d\n",
    "#ubah jadi 2 baris\n",
    "\n",
    "#soal vstack dan hstack\n",
    "#array1 = [5,6,7,4,2,3,4,10]--> 1d---> resahpe\n",
    "#array2 = [7,8,6,5,4,3,2,10]-->1d --> reshape\n",
    "\n",
    "#vstack -->\n",
    "#5 6\n",
    "#7 4\n",
    "#2 3\n",
    "#4 10\n",
    "\n",
    "#hstack-->\n",
    "#5 6 7 4 7 8 6 5\n",
    "#2 3 4 10 4 3 2 10"
   ]
  },
  {
   "cell_type": "code",
   "execution_count": 115,
   "id": "e30d648d-ebeb-4d3a-a153-a674a3a3c8a3",
   "metadata": {},
   "outputs": [
    {
     "data": {
      "text/plain": [
       "array([  5,  10,  15,  20,  25,  30,  35,  40,  45,  50,  55,  60,  65,\n",
       "        70,  75,  80,  85,  90,  95, 100])"
      ]
     },
     "execution_count": 115,
     "metadata": {},
     "output_type": "execute_result"
    }
   ],
   "source": [
    "z = np.arange(5,101,5)\n",
    "z"
   ]
  },
  {
   "cell_type": "code",
   "execution_count": 118,
   "id": "d27c84fd-43cc-4d95-b36f-58c7a4369b08",
   "metadata": {},
   "outputs": [
    {
     "data": {
      "text/plain": [
       "(20,)"
      ]
     },
     "execution_count": 118,
     "metadata": {},
     "output_type": "execute_result"
    }
   ],
   "source": [
    "z.shape"
   ]
  },
  {
   "cell_type": "code",
   "execution_count": 120,
   "id": "81b12891-7098-4326-94f0-627733d8baeb",
   "metadata": {},
   "outputs": [
    {
     "data": {
      "text/plain": [
       "array([[  5,  10,  15,  20,  25,  30,  35,  40,  45,  50],\n",
       "       [ 55,  60,  65,  70,  75,  80,  85,  90,  95, 100]])"
      ]
     },
     "execution_count": 120,
     "metadata": {},
     "output_type": "execute_result"
    }
   ],
   "source": [
    "z_2d = z.reshape(2,10)\n",
    "z_2d"
   ]
  },
  {
   "cell_type": "code",
   "execution_count": 129,
   "id": "26c47d84-9a56-4d0d-b18a-f72b866e53fc",
   "metadata": {},
   "outputs": [
    {
     "name": "stdout",
     "output_type": "stream",
     "text": [
      "(10, 2)\n",
      "[[  5  10]\n",
      " [ 15  20]\n",
      " [ 25  30]\n",
      " [ 35  40]\n",
      " [ 45  50]\n",
      " [ 55  60]\n",
      " [ 65  70]\n",
      " [ 75  80]\n",
      " [ 85  90]\n",
      " [ 95 100]]\n"
     ]
    }
   ],
   "source": [
    "x = z.reshape(10,2)\n",
    "print(x.shape)\n",
    "print(x)"
   ]
  },
  {
   "cell_type": "code",
   "execution_count": 147,
   "id": "fab4573d-ac2e-4f63-8ae6-df47b7633af4",
   "metadata": {},
   "outputs": [
    {
     "data": {
      "text/plain": [
       "array([[ 5,  6],\n",
       "       [ 7,  4],\n",
       "       [ 2,  3],\n",
       "       [ 4, 10]])"
      ]
     },
     "execution_count": 147,
     "metadata": {},
     "output_type": "execute_result"
    }
   ],
   "source": [
    "array1 = np.array([[5,6],[7,4],\n",
    "                   [2,3],[4,10],])\n",
    "array1"
   ]
  },
  {
   "cell_type": "code",
   "execution_count": 149,
   "id": "e03531ce-2161-44bc-a6e6-971f6c608a84",
   "metadata": {},
   "outputs": [
    {
     "data": {
      "text/plain": [
       "array([[ 7,  8],\n",
       "       [ 6,  5],\n",
       "       [ 4,  3],\n",
       "       [ 2, 10]])"
      ]
     },
     "execution_count": 149,
     "metadata": {},
     "output_type": "execute_result"
    }
   ],
   "source": [
    "array2 = np.array([[7,8],[6,5],\n",
    "                   [4,3],[2,10],])\n",
    "array2"
   ]
  },
  {
   "cell_type": "code",
   "execution_count": 150,
   "id": "6839be33-2e1e-4edc-8f2a-3bddb5176cf7",
   "metadata": {},
   "outputs": [
    {
     "data": {
      "text/plain": [
       "array([[ 5,  6],\n",
       "       [ 7,  4],\n",
       "       [ 2,  3],\n",
       "       [ 4, 10]])"
      ]
     },
     "execution_count": 150,
     "metadata": {},
     "output_type": "execute_result"
    }
   ],
   "source": [
    "result_vstack = np.vstack(array1)\n",
    "result_vstack"
   ]
  },
  {
   "cell_type": "code",
   "execution_count": 151,
   "id": "b370279c-b612-4839-9e06-49b7038841c9",
   "metadata": {},
   "outputs": [
    {
     "name": "stdout",
     "output_type": "stream",
     "text": [
      "[[ 5  6  7  8]\n",
      " [ 7  4  6  5]\n",
      " [ 2  3  4  3]\n",
      " [ 4 10  2 10]]\n"
     ]
    }
   ],
   "source": [
    "result_hstack = np.hstack((array1, array2))\n",
    "print(result_hstack)"
   ]
  },
  {
   "cell_type": "code",
   "execution_count": null,
   "id": "17967679-aad6-45ea-87f6-676a51b88b37",
   "metadata": {},
   "outputs": [],
   "source": []
  }
 ],
 "metadata": {
  "kernelspec": {
   "display_name": "Python 3 (ipykernel)",
   "language": "python",
   "name": "python3"
  },
  "language_info": {
   "codemirror_mode": {
    "name": "ipython",
    "version": 3
   },
   "file_extension": ".py",
   "mimetype": "text/x-python",
   "name": "python",
   "nbconvert_exporter": "python",
   "pygments_lexer": "ipython3",
   "version": "3.12.7"
  }
 },
 "nbformat": 4,
 "nbformat_minor": 5
}
