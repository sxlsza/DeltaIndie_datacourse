{
 "cells": [
  {
   "cell_type": "markdown",
   "id": "83d8ae5f-a649-4ceb-afb7-e8ee7db1ba8b",
   "metadata": {},
   "source": [
    "Apa itu data cleansing?"
   ]
  },
  {
   "cell_type": "markdown",
   "id": "3d5115d6-6f14-416b-b61e-b89f4f703758",
   "metadata": {},
   "source": [
    "Data cleansing adalah proses dari pemrosesan data yang berguna untuk membersihkan data dari nilai yang hilang, ataupun pencilan."
   ]
  },
  {
   "cell_type": "markdown",
   "id": "760ed9e7-afbc-48c8-af88-10086348e8a4",
   "metadata": {},
   "source": [
    "Regita ---> rambut panjang ---> P\n",
    "Nina ---> rambut panjang ---> P\n",
    "Chila ---> rambut panjang ---> P\n",
    "Putri ---> rambut pendek ---> P"
   ]
  },
  {
   "cell_type": "code",
   "execution_count": null,
   "id": "d33a9682-b680-48c2-8106-ca2fb138661a",
   "metadata": {},
   "outputs": [],
   "source": [
    "Budi ---> rambut pendek ---> L\n",
    "Tono ---> rambut pendek ---> L\n",
    "Jeki ---> rambut pendek ---> L\n",
    "Aldi ---> rambut pendek ---> L"
   ]
  },
  {
   "cell_type": "code",
   "execution_count": null,
   "id": "16a8fc14-fd43-4e53-ac94-cce52fec91fc",
   "metadata": {},
   "outputs": [],
   "source": [
    "DINI ---> rambut pendek "
   ]
  },
  {
   "cell_type": "code",
   "execution_count": null,
   "id": "1b42221b-d479-4584-9e5e-724235437114",
   "metadata": {},
   "outputs": [],
   "source": [
    "#Regresi\n",
    "prediksi harga saham ---> Rp 50000000\n",
    "prediksi harga sepatu ---> Rp 2000000"
   ]
  },
  {
   "cell_type": "code",
   "execution_count": null,
   "id": "e54dae3f-57ba-4619-b02c-be0bfe4212d1",
   "metadata": {},
   "outputs": [],
   "source": [
    "#klasifikasi\n",
    "prediksi cuaca hari ini 1 ---> hujan, 2 ---> kemarau, 3 ---> salju\n",
    "prediksi penyakit jantung 1 ---> jantung koroner, 2 ---> kanker jantung"
   ]
  },
  {
   "cell_type": "markdown",
   "id": "6d193423-401b-47c5-b0ec-62d4edc67b27",
   "metadata": {},
   "source": [
    "Import Library"
   ]
  },
  {
   "cell_type": "code",
   "execution_count": 3,
   "id": "11215255-2843-4ebc-b27f-07ea7530066e",
   "metadata": {},
   "outputs": [],
   "source": [
    "import pandas as pd\n",
    "import numpy as np "
   ]
  },
  {
   "cell_type": "code",
   "execution_count": 5,
   "id": "62634e05-795b-48ff-841c-4f2e2d482bec",
   "metadata": {},
   "outputs": [
    {
     "data": {
      "text/html": [
       "<div>\n",
       "<style scoped>\n",
       "    .dataframe tbody tr th:only-of-type {\n",
       "        vertical-align: middle;\n",
       "    }\n",
       "\n",
       "    .dataframe tbody tr th {\n",
       "        vertical-align: top;\n",
       "    }\n",
       "\n",
       "    .dataframe thead th {\n",
       "        text-align: right;\n",
       "    }\n",
       "</style>\n",
       "<table border=\"1\" class=\"dataframe\">\n",
       "  <thead>\n",
       "    <tr style=\"text-align: right;\">\n",
       "      <th></th>\n",
       "      <th>PID</th>\n",
       "      <th>ST_NUM</th>\n",
       "      <th>ST_NAME</th>\n",
       "      <th>OWN_OCCUPIED</th>\n",
       "      <th>NUM_BEDROOMS</th>\n",
       "      <th>NUM_BATH</th>\n",
       "      <th>SQ_FT</th>\n",
       "    </tr>\n",
       "  </thead>\n",
       "  <tbody>\n",
       "    <tr>\n",
       "      <th>0</th>\n",
       "      <td>100001000.0</td>\n",
       "      <td>104.0</td>\n",
       "      <td>PUTNAM</td>\n",
       "      <td>Y</td>\n",
       "      <td>3</td>\n",
       "      <td>1</td>\n",
       "      <td>1000</td>\n",
       "    </tr>\n",
       "    <tr>\n",
       "      <th>1</th>\n",
       "      <td>100002000.0</td>\n",
       "      <td>197.0</td>\n",
       "      <td>LEXINGTON</td>\n",
       "      <td>N</td>\n",
       "      <td>3</td>\n",
       "      <td>1.5</td>\n",
       "      <td>--</td>\n",
       "    </tr>\n",
       "    <tr>\n",
       "      <th>2</th>\n",
       "      <td>100003000.0</td>\n",
       "      <td>NaN</td>\n",
       "      <td>LEXINGTON</td>\n",
       "      <td>N</td>\n",
       "      <td>NaN</td>\n",
       "      <td>1</td>\n",
       "      <td>850</td>\n",
       "    </tr>\n",
       "    <tr>\n",
       "      <th>3</th>\n",
       "      <td>100004000.0</td>\n",
       "      <td>201.0</td>\n",
       "      <td>BERKELEY</td>\n",
       "      <td>12</td>\n",
       "      <td>1</td>\n",
       "      <td>NaN</td>\n",
       "      <td>700</td>\n",
       "    </tr>\n",
       "    <tr>\n",
       "      <th>4</th>\n",
       "      <td>NaN</td>\n",
       "      <td>203.0</td>\n",
       "      <td>BERKELEY</td>\n",
       "      <td>Y</td>\n",
       "      <td>3</td>\n",
       "      <td>2</td>\n",
       "      <td>1600</td>\n",
       "    </tr>\n",
       "    <tr>\n",
       "      <th>5</th>\n",
       "      <td>100006000.0</td>\n",
       "      <td>207.0</td>\n",
       "      <td>BERKELEY</td>\n",
       "      <td>Y</td>\n",
       "      <td>NaN</td>\n",
       "      <td>1</td>\n",
       "      <td>800</td>\n",
       "    </tr>\n",
       "    <tr>\n",
       "      <th>6</th>\n",
       "      <td>100007000.0</td>\n",
       "      <td>NaN</td>\n",
       "      <td>WASHINGTON</td>\n",
       "      <td>NaN</td>\n",
       "      <td>2</td>\n",
       "      <td>HURLEY</td>\n",
       "      <td>950</td>\n",
       "    </tr>\n",
       "    <tr>\n",
       "      <th>7</th>\n",
       "      <td>100008000.0</td>\n",
       "      <td>213.0</td>\n",
       "      <td>TREMONT</td>\n",
       "      <td>Y</td>\n",
       "      <td>--</td>\n",
       "      <td>1</td>\n",
       "      <td>NaN</td>\n",
       "    </tr>\n",
       "    <tr>\n",
       "      <th>8</th>\n",
       "      <td>100009000.0</td>\n",
       "      <td>215.0</td>\n",
       "      <td>TREMONT</td>\n",
       "      <td>Y</td>\n",
       "      <td>na</td>\n",
       "      <td>2</td>\n",
       "      <td>1800</td>\n",
       "    </tr>\n",
       "  </tbody>\n",
       "</table>\n",
       "</div>"
      ],
      "text/plain": [
       "           PID  ST_NUM     ST_NAME OWN_OCCUPIED NUM_BEDROOMS NUM_BATH SQ_FT\n",
       "0  100001000.0   104.0      PUTNAM            Y            3        1  1000\n",
       "1  100002000.0   197.0   LEXINGTON            N            3      1.5    --\n",
       "2  100003000.0     NaN   LEXINGTON            N          NaN        1   850\n",
       "3  100004000.0   201.0    BERKELEY           12            1      NaN   700\n",
       "4          NaN   203.0    BERKELEY            Y            3        2  1600\n",
       "5  100006000.0   207.0    BERKELEY            Y          NaN        1   800\n",
       "6  100007000.0     NaN  WASHINGTON          NaN            2   HURLEY   950\n",
       "7  100008000.0   213.0     TREMONT            Y           --        1   NaN\n",
       "8  100009000.0   215.0     TREMONT            Y           na        2  1800"
      ]
     },
     "execution_count": 5,
     "metadata": {},
     "output_type": "execute_result"
    }
   ],
   "source": [
    "df = pd.read_csv('https://raw.githubusercontent.com/ardhiraka/PFDS_sources/master/property_data.csv')\n",
    "df"
   ]
  },
  {
   "cell_type": "markdown",
   "id": "1976830e-f3e9-4020-96c4-ea6f8ce0c926",
   "metadata": {},
   "source": [
    "NAN, NULL, ___,--> missing value"
   ]
  },
  {
   "cell_type": "markdown",
   "id": "e8965294-cb34-433f-b04c-d6efe6e033ff",
   "metadata": {},
   "source": [
    "Ketahui Kolomnya"
   ]
  },
  {
   "cell_type": "markdown",
   "id": "9d3dc66e-18be-4f1f-bb9c-6e7b49dd3b0e",
   "metadata": {},
   "source": [
    "1. ST_NUM: Street Number --> int/float\n",
    "2. ST_NAME: Street Name --> STRING/OBJECT\n",
    "3. OWN_OCCUPIED: Kepemilikan OCCUPIED --> OBJECT\n",
    "4. NUM_BEDROOMS: Jumlah kamar --> int/float\n",
    "5. NUM_BATH: Jumlah kamar mandi"
   ]
  },
  {
   "cell_type": "markdown",
   "id": "ef914f65-3162-4925-8fca-6f0613053a13",
   "metadata": {},
   "source": [
    "Seleksi Kolom"
   ]
  },
  {
   "cell_type": "code",
   "execution_count": 8,
   "id": "024521d1-643f-4ea1-8ab6-bbb6688f7e33",
   "metadata": {},
   "outputs": [
    {
     "data": {
      "text/html": [
       "<div>\n",
       "<style scoped>\n",
       "    .dataframe tbody tr th:only-of-type {\n",
       "        vertical-align: middle;\n",
       "    }\n",
       "\n",
       "    .dataframe tbody tr th {\n",
       "        vertical-align: top;\n",
       "    }\n",
       "\n",
       "    .dataframe thead th {\n",
       "        text-align: right;\n",
       "    }\n",
       "</style>\n",
       "<table border=\"1\" class=\"dataframe\">\n",
       "  <thead>\n",
       "    <tr style=\"text-align: right;\">\n",
       "      <th></th>\n",
       "      <th>ST_NUM</th>\n",
       "      <th>ST_NAME</th>\n",
       "      <th>OWN_OCCUPIED</th>\n",
       "      <th>NUM_BEDROOMS</th>\n",
       "      <th>NUM_BATH</th>\n",
       "    </tr>\n",
       "  </thead>\n",
       "  <tbody>\n",
       "    <tr>\n",
       "      <th>0</th>\n",
       "      <td>104.0</td>\n",
       "      <td>PUTNAM</td>\n",
       "      <td>Y</td>\n",
       "      <td>3</td>\n",
       "      <td>1</td>\n",
       "    </tr>\n",
       "    <tr>\n",
       "      <th>1</th>\n",
       "      <td>197.0</td>\n",
       "      <td>LEXINGTON</td>\n",
       "      <td>N</td>\n",
       "      <td>3</td>\n",
       "      <td>1.5</td>\n",
       "    </tr>\n",
       "    <tr>\n",
       "      <th>2</th>\n",
       "      <td>NaN</td>\n",
       "      <td>LEXINGTON</td>\n",
       "      <td>N</td>\n",
       "      <td>NaN</td>\n",
       "      <td>1</td>\n",
       "    </tr>\n",
       "    <tr>\n",
       "      <th>3</th>\n",
       "      <td>201.0</td>\n",
       "      <td>BERKELEY</td>\n",
       "      <td>12</td>\n",
       "      <td>1</td>\n",
       "      <td>NaN</td>\n",
       "    </tr>\n",
       "    <tr>\n",
       "      <th>4</th>\n",
       "      <td>203.0</td>\n",
       "      <td>BERKELEY</td>\n",
       "      <td>Y</td>\n",
       "      <td>3</td>\n",
       "      <td>2</td>\n",
       "    </tr>\n",
       "    <tr>\n",
       "      <th>5</th>\n",
       "      <td>207.0</td>\n",
       "      <td>BERKELEY</td>\n",
       "      <td>Y</td>\n",
       "      <td>NaN</td>\n",
       "      <td>1</td>\n",
       "    </tr>\n",
       "    <tr>\n",
       "      <th>6</th>\n",
       "      <td>NaN</td>\n",
       "      <td>WASHINGTON</td>\n",
       "      <td>NaN</td>\n",
       "      <td>2</td>\n",
       "      <td>HURLEY</td>\n",
       "    </tr>\n",
       "    <tr>\n",
       "      <th>7</th>\n",
       "      <td>213.0</td>\n",
       "      <td>TREMONT</td>\n",
       "      <td>Y</td>\n",
       "      <td>--</td>\n",
       "      <td>1</td>\n",
       "    </tr>\n",
       "    <tr>\n",
       "      <th>8</th>\n",
       "      <td>215.0</td>\n",
       "      <td>TREMONT</td>\n",
       "      <td>Y</td>\n",
       "      <td>na</td>\n",
       "      <td>2</td>\n",
       "    </tr>\n",
       "  </tbody>\n",
       "</table>\n",
       "</div>"
      ],
      "text/plain": [
       "   ST_NUM     ST_NAME OWN_OCCUPIED NUM_BEDROOMS NUM_BATH\n",
       "0   104.0      PUTNAM            Y            3        1\n",
       "1   197.0   LEXINGTON            N            3      1.5\n",
       "2     NaN   LEXINGTON            N          NaN        1\n",
       "3   201.0    BERKELEY           12            1      NaN\n",
       "4   203.0    BERKELEY            Y            3        2\n",
       "5   207.0    BERKELEY            Y          NaN        1\n",
       "6     NaN  WASHINGTON          NaN            2   HURLEY\n",
       "7   213.0     TREMONT            Y           --        1\n",
       "8   215.0     TREMONT            Y           na        2"
      ]
     },
     "execution_count": 8,
     "metadata": {},
     "output_type": "execute_result"
    }
   ],
   "source": [
    "df_used = df[[\"ST_NUM\",\"ST_NAME\",\"OWN_OCCUPIED\",\"NUM_BEDROOMS\",\"NUM_BATH\"]]\n",
    "df_used"
   ]
  },
  {
   "cell_type": "code",
   "execution_count": 9,
   "id": "535779f1-ba87-436a-9ed3-7b7e66349bfc",
   "metadata": {},
   "outputs": [
    {
     "data": {
      "text/plain": [
       "0    104.0\n",
       "1    197.0\n",
       "2      NaN\n",
       "3    201.0\n",
       "4    203.0\n",
       "5    207.0\n",
       "6      NaN\n",
       "7    213.0\n",
       "8    215.0\n",
       "Name: ST_NUM, dtype: float64"
      ]
     },
     "execution_count": 9,
     "metadata": {},
     "output_type": "execute_result"
    }
   ],
   "source": [
    "df_used[\"ST_NUM\"]"
   ]
  },
  {
   "cell_type": "code",
   "execution_count": 12,
   "id": "992be7b8-5978-41c9-9049-9e5aab3792a9",
   "metadata": {},
   "outputs": [
    {
     "data": {
      "text/plain": [
       "0    False\n",
       "1    False\n",
       "2     True\n",
       "3    False\n",
       "4    False\n",
       "5    False\n",
       "6     True\n",
       "7    False\n",
       "8    False\n",
       "Name: ST_NUM, dtype: bool"
      ]
     },
     "execution_count": 12,
     "metadata": {},
     "output_type": "execute_result"
    }
   ],
   "source": [
    "df_used[\"ST_NUM\"].isna()"
   ]
  },
  {
   "cell_type": "code",
   "execution_count": 15,
   "id": "3dbd4812-ab40-4aa9-92b4-a8d091c124d3",
   "metadata": {},
   "outputs": [
    {
     "data": {
      "text/html": [
       "<div>\n",
       "<style scoped>\n",
       "    .dataframe tbody tr th:only-of-type {\n",
       "        vertical-align: middle;\n",
       "    }\n",
       "\n",
       "    .dataframe tbody tr th {\n",
       "        vertical-align: top;\n",
       "    }\n",
       "\n",
       "    .dataframe thead th {\n",
       "        text-align: right;\n",
       "    }\n",
       "</style>\n",
       "<table border=\"1\" class=\"dataframe\">\n",
       "  <thead>\n",
       "    <tr style=\"text-align: right;\">\n",
       "      <th></th>\n",
       "      <th>ST_NUM</th>\n",
       "      <th>ST_NAME</th>\n",
       "      <th>OWN_OCCUPIED</th>\n",
       "      <th>NUM_BEDROOMS</th>\n",
       "      <th>NUM_BATH</th>\n",
       "    </tr>\n",
       "  </thead>\n",
       "  <tbody>\n",
       "    <tr>\n",
       "      <th>0</th>\n",
       "      <td>104.0</td>\n",
       "      <td>PUTNAM</td>\n",
       "      <td>Y</td>\n",
       "      <td>3</td>\n",
       "      <td>1</td>\n",
       "    </tr>\n",
       "    <tr>\n",
       "      <th>1</th>\n",
       "      <td>197.0</td>\n",
       "      <td>LEXINGTON</td>\n",
       "      <td>N</td>\n",
       "      <td>3</td>\n",
       "      <td>1.5</td>\n",
       "    </tr>\n",
       "    <tr>\n",
       "      <th>2</th>\n",
       "      <td>NaN</td>\n",
       "      <td>LEXINGTON</td>\n",
       "      <td>N</td>\n",
       "      <td>NaN</td>\n",
       "      <td>1</td>\n",
       "    </tr>\n",
       "    <tr>\n",
       "      <th>3</th>\n",
       "      <td>201.0</td>\n",
       "      <td>BERKELEY</td>\n",
       "      <td>12</td>\n",
       "      <td>1</td>\n",
       "      <td>NaN</td>\n",
       "    </tr>\n",
       "    <tr>\n",
       "      <th>4</th>\n",
       "      <td>203.0</td>\n",
       "      <td>BERKELEY</td>\n",
       "      <td>Y</td>\n",
       "      <td>3</td>\n",
       "      <td>2</td>\n",
       "    </tr>\n",
       "    <tr>\n",
       "      <th>5</th>\n",
       "      <td>207.0</td>\n",
       "      <td>BERKELEY</td>\n",
       "      <td>Y</td>\n",
       "      <td>NaN</td>\n",
       "      <td>1</td>\n",
       "    </tr>\n",
       "    <tr>\n",
       "      <th>6</th>\n",
       "      <td>NaN</td>\n",
       "      <td>WASHINGTON</td>\n",
       "      <td>NaN</td>\n",
       "      <td>2</td>\n",
       "      <td>HURLEY</td>\n",
       "    </tr>\n",
       "    <tr>\n",
       "      <th>7</th>\n",
       "      <td>213.0</td>\n",
       "      <td>TREMONT</td>\n",
       "      <td>Y</td>\n",
       "      <td>--</td>\n",
       "      <td>1</td>\n",
       "    </tr>\n",
       "    <tr>\n",
       "      <th>8</th>\n",
       "      <td>215.0</td>\n",
       "      <td>TREMONT</td>\n",
       "      <td>Y</td>\n",
       "      <td>na</td>\n",
       "      <td>2</td>\n",
       "    </tr>\n",
       "  </tbody>\n",
       "</table>\n",
       "</div>"
      ],
      "text/plain": [
       "   ST_NUM     ST_NAME OWN_OCCUPIED NUM_BEDROOMS NUM_BATH\n",
       "0   104.0      PUTNAM            Y            3        1\n",
       "1   197.0   LEXINGTON            N            3      1.5\n",
       "2     NaN   LEXINGTON            N          NaN        1\n",
       "3   201.0    BERKELEY           12            1      NaN\n",
       "4   203.0    BERKELEY            Y            3        2\n",
       "5   207.0    BERKELEY            Y          NaN        1\n",
       "6     NaN  WASHINGTON          NaN            2   HURLEY\n",
       "7   213.0     TREMONT            Y           --        1\n",
       "8   215.0     TREMONT            Y           na        2"
      ]
     },
     "execution_count": 15,
     "metadata": {},
     "output_type": "execute_result"
    }
   ],
   "source": [
    "df_used"
   ]
  },
  {
   "cell_type": "code",
   "execution_count": 14,
   "id": "b021c7cb-8453-4348-93fa-3f967eba2c83",
   "metadata": {},
   "outputs": [
    {
     "data": {
      "text/plain": [
       "ST_NUM          2\n",
       "ST_NAME         0\n",
       "OWN_OCCUPIED    1\n",
       "NUM_BEDROOMS    2\n",
       "NUM_BATH        1\n",
       "dtype: int64"
      ]
     },
     "execution_count": 14,
     "metadata": {},
     "output_type": "execute_result"
    }
   ],
   "source": [
    "df_used.isna().sum()"
   ]
  },
  {
   "cell_type": "code",
   "execution_count": 16,
   "id": "9ed7e165-915c-4828-a5f5-fb587c32713b",
   "metadata": {},
   "outputs": [
    {
     "name": "stdout",
     "output_type": "stream",
     "text": [
      "<class 'pandas.core.frame.DataFrame'>\n",
      "RangeIndex: 9 entries, 0 to 8\n",
      "Data columns (total 5 columns):\n",
      " #   Column        Non-Null Count  Dtype  \n",
      "---  ------        --------------  -----  \n",
      " 0   ST_NUM        7 non-null      float64\n",
      " 1   ST_NAME       9 non-null      object \n",
      " 2   OWN_OCCUPIED  8 non-null      object \n",
      " 3   NUM_BEDROOMS  7 non-null      object \n",
      " 4   NUM_BATH      8 non-null      object \n",
      "dtypes: float64(1), object(4)\n",
      "memory usage: 492.0+ bytes\n"
     ]
    }
   ],
   "source": [
    "df_used.info()"
   ]
  },
  {
   "cell_type": "markdown",
   "id": "20428851-b0c4-4593-b857-bc0a5f7e492d",
   "metadata": {},
   "source": [
    "Bersihkan data "
   ]
  },
  {
   "cell_type": "markdown",
   "id": "e6359770-9f0d-4a66-a5d9-8272733feb77",
   "metadata": {},
   "source": [
    "Metode Pertama"
   ]
  },
  {
   "cell_type": "code",
   "execution_count": 17,
   "id": "eea0b9d9-615b-4041-aac3-18014e5660a9",
   "metadata": {},
   "outputs": [],
   "source": [
    "filter_missing_value = [\"na\",\"--\"]"
   ]
  },
  {
   "cell_type": "code",
   "execution_count": 31,
   "id": "74a6de60-c765-4611-b343-fd0c3a1ada6f",
   "metadata": {},
   "outputs": [
    {
     "data": {
      "text/html": [
       "<div>\n",
       "<style scoped>\n",
       "    .dataframe tbody tr th:only-of-type {\n",
       "        vertical-align: middle;\n",
       "    }\n",
       "\n",
       "    .dataframe tbody tr th {\n",
       "        vertical-align: top;\n",
       "    }\n",
       "\n",
       "    .dataframe thead th {\n",
       "        text-align: right;\n",
       "    }\n",
       "</style>\n",
       "<table border=\"1\" class=\"dataframe\">\n",
       "  <thead>\n",
       "    <tr style=\"text-align: right;\">\n",
       "      <th></th>\n",
       "      <th>PID</th>\n",
       "      <th>ST_NUM</th>\n",
       "      <th>ST_NAME</th>\n",
       "      <th>OWN_OCCUPIED</th>\n",
       "      <th>NUM_BEDROOMS</th>\n",
       "      <th>NUM_BATH</th>\n",
       "      <th>SQ_FT</th>\n",
       "    </tr>\n",
       "  </thead>\n",
       "  <tbody>\n",
       "    <tr>\n",
       "      <th>0</th>\n",
       "      <td>100001000.0</td>\n",
       "      <td>104.0</td>\n",
       "      <td>PUTNAM</td>\n",
       "      <td>Y</td>\n",
       "      <td>3.0</td>\n",
       "      <td>1</td>\n",
       "      <td>1000.0</td>\n",
       "    </tr>\n",
       "    <tr>\n",
       "      <th>1</th>\n",
       "      <td>100002000.0</td>\n",
       "      <td>197.0</td>\n",
       "      <td>LEXINGTON</td>\n",
       "      <td>N</td>\n",
       "      <td>3.0</td>\n",
       "      <td>1.5</td>\n",
       "      <td>NaN</td>\n",
       "    </tr>\n",
       "    <tr>\n",
       "      <th>2</th>\n",
       "      <td>100003000.0</td>\n",
       "      <td>NaN</td>\n",
       "      <td>LEXINGTON</td>\n",
       "      <td>N</td>\n",
       "      <td>NaN</td>\n",
       "      <td>1</td>\n",
       "      <td>850.0</td>\n",
       "    </tr>\n",
       "    <tr>\n",
       "      <th>3</th>\n",
       "      <td>100004000.0</td>\n",
       "      <td>201.0</td>\n",
       "      <td>BERKELEY</td>\n",
       "      <td>12</td>\n",
       "      <td>1.0</td>\n",
       "      <td>NaN</td>\n",
       "      <td>700.0</td>\n",
       "    </tr>\n",
       "    <tr>\n",
       "      <th>4</th>\n",
       "      <td>NaN</td>\n",
       "      <td>203.0</td>\n",
       "      <td>BERKELEY</td>\n",
       "      <td>Y</td>\n",
       "      <td>3.0</td>\n",
       "      <td>2</td>\n",
       "      <td>1600.0</td>\n",
       "    </tr>\n",
       "    <tr>\n",
       "      <th>5</th>\n",
       "      <td>100006000.0</td>\n",
       "      <td>207.0</td>\n",
       "      <td>BERKELEY</td>\n",
       "      <td>Y</td>\n",
       "      <td>NaN</td>\n",
       "      <td>1</td>\n",
       "      <td>800.0</td>\n",
       "    </tr>\n",
       "    <tr>\n",
       "      <th>6</th>\n",
       "      <td>100007000.0</td>\n",
       "      <td>NaN</td>\n",
       "      <td>WASHINGTON</td>\n",
       "      <td>NaN</td>\n",
       "      <td>2.0</td>\n",
       "      <td>HURLEY</td>\n",
       "      <td>950.0</td>\n",
       "    </tr>\n",
       "    <tr>\n",
       "      <th>7</th>\n",
       "      <td>100008000.0</td>\n",
       "      <td>213.0</td>\n",
       "      <td>TREMONT</td>\n",
       "      <td>Y</td>\n",
       "      <td>NaN</td>\n",
       "      <td>1</td>\n",
       "      <td>NaN</td>\n",
       "    </tr>\n",
       "    <tr>\n",
       "      <th>8</th>\n",
       "      <td>100009000.0</td>\n",
       "      <td>215.0</td>\n",
       "      <td>TREMONT</td>\n",
       "      <td>Y</td>\n",
       "      <td>NaN</td>\n",
       "      <td>2</td>\n",
       "      <td>1800.0</td>\n",
       "    </tr>\n",
       "  </tbody>\n",
       "</table>\n",
       "</div>"
      ],
      "text/plain": [
       "           PID  ST_NUM     ST_NAME OWN_OCCUPIED  NUM_BEDROOMS NUM_BATH   SQ_FT\n",
       "0  100001000.0   104.0      PUTNAM            Y           3.0        1  1000.0\n",
       "1  100002000.0   197.0   LEXINGTON            N           3.0      1.5     NaN\n",
       "2  100003000.0     NaN   LEXINGTON            N           NaN        1   850.0\n",
       "3  100004000.0   201.0    BERKELEY           12           1.0      NaN   700.0\n",
       "4          NaN   203.0    BERKELEY            Y           3.0        2  1600.0\n",
       "5  100006000.0   207.0    BERKELEY            Y           NaN        1   800.0\n",
       "6  100007000.0     NaN  WASHINGTON          NaN           2.0   HURLEY   950.0\n",
       "7  100008000.0   213.0     TREMONT            Y           NaN        1     NaN\n",
       "8  100009000.0   215.0     TREMONT            Y           NaN        2  1800.0"
      ]
     },
     "execution_count": 31,
     "metadata": {},
     "output_type": "execute_result"
    }
   ],
   "source": [
    "df_used = pd.read_csv('https://raw.githubusercontent.com/ardhiraka/PFDS_sources/master/property_data.csv', na_values= filter_missing_value)\n",
    "df_used"
   ]
  },
  {
   "cell_type": "code",
   "execution_count": 32,
   "id": "cf523076-db2c-4de0-ac72-4cbb88fac066",
   "metadata": {},
   "outputs": [
    {
     "data": {
      "text/html": [
       "<div>\n",
       "<style scoped>\n",
       "    .dataframe tbody tr th:only-of-type {\n",
       "        vertical-align: middle;\n",
       "    }\n",
       "\n",
       "    .dataframe tbody tr th {\n",
       "        vertical-align: top;\n",
       "    }\n",
       "\n",
       "    .dataframe thead th {\n",
       "        text-align: right;\n",
       "    }\n",
       "</style>\n",
       "<table border=\"1\" class=\"dataframe\">\n",
       "  <thead>\n",
       "    <tr style=\"text-align: right;\">\n",
       "      <th></th>\n",
       "      <th>ST_NUM</th>\n",
       "      <th>ST_NAME</th>\n",
       "      <th>OWN_OCCUPIED</th>\n",
       "      <th>NUM_BEDROOMS</th>\n",
       "      <th>NUM_BATH</th>\n",
       "    </tr>\n",
       "  </thead>\n",
       "  <tbody>\n",
       "    <tr>\n",
       "      <th>0</th>\n",
       "      <td>104.0</td>\n",
       "      <td>PUTNAM</td>\n",
       "      <td>Y</td>\n",
       "      <td>3</td>\n",
       "      <td>1</td>\n",
       "    </tr>\n",
       "    <tr>\n",
       "      <th>1</th>\n",
       "      <td>197.0</td>\n",
       "      <td>LEXINGTON</td>\n",
       "      <td>N</td>\n",
       "      <td>3</td>\n",
       "      <td>1.5</td>\n",
       "    </tr>\n",
       "    <tr>\n",
       "      <th>2</th>\n",
       "      <td>NaN</td>\n",
       "      <td>LEXINGTON</td>\n",
       "      <td>N</td>\n",
       "      <td>NaN</td>\n",
       "      <td>1</td>\n",
       "    </tr>\n",
       "    <tr>\n",
       "      <th>3</th>\n",
       "      <td>201.0</td>\n",
       "      <td>BERKELEY</td>\n",
       "      <td>12</td>\n",
       "      <td>1</td>\n",
       "      <td>NaN</td>\n",
       "    </tr>\n",
       "    <tr>\n",
       "      <th>4</th>\n",
       "      <td>203.0</td>\n",
       "      <td>BERKELEY</td>\n",
       "      <td>Y</td>\n",
       "      <td>3</td>\n",
       "      <td>2</td>\n",
       "    </tr>\n",
       "    <tr>\n",
       "      <th>5</th>\n",
       "      <td>207.0</td>\n",
       "      <td>BERKELEY</td>\n",
       "      <td>Y</td>\n",
       "      <td>NaN</td>\n",
       "      <td>1</td>\n",
       "    </tr>\n",
       "    <tr>\n",
       "      <th>6</th>\n",
       "      <td>NaN</td>\n",
       "      <td>WASHINGTON</td>\n",
       "      <td>NaN</td>\n",
       "      <td>2</td>\n",
       "      <td>HURLEY</td>\n",
       "    </tr>\n",
       "    <tr>\n",
       "      <th>7</th>\n",
       "      <td>213.0</td>\n",
       "      <td>TREMONT</td>\n",
       "      <td>Y</td>\n",
       "      <td>--</td>\n",
       "      <td>1</td>\n",
       "    </tr>\n",
       "    <tr>\n",
       "      <th>8</th>\n",
       "      <td>215.0</td>\n",
       "      <td>TREMONT</td>\n",
       "      <td>Y</td>\n",
       "      <td>na</td>\n",
       "      <td>2</td>\n",
       "    </tr>\n",
       "  </tbody>\n",
       "</table>\n",
       "</div>"
      ],
      "text/plain": [
       "   ST_NUM     ST_NAME OWN_OCCUPIED NUM_BEDROOMS NUM_BATH\n",
       "0   104.0      PUTNAM            Y            3        1\n",
       "1   197.0   LEXINGTON            N            3      1.5\n",
       "2     NaN   LEXINGTON            N          NaN        1\n",
       "3   201.0    BERKELEY           12            1      NaN\n",
       "4   203.0    BERKELEY            Y            3        2\n",
       "5   207.0    BERKELEY            Y          NaN        1\n",
       "6     NaN  WASHINGTON          NaN            2   HURLEY\n",
       "7   213.0     TREMONT            Y           --        1\n",
       "8   215.0     TREMONT            Y           na        2"
      ]
     },
     "execution_count": 32,
     "metadata": {},
     "output_type": "execute_result"
    }
   ],
   "source": [
    "df[[\"ST_NUM\",\"ST_NAME\",\"OWN_OCCUPIED\",\"NUM_BEDROOMS\",\"NUM_BATH\"]]"
   ]
  },
  {
   "cell_type": "markdown",
   "id": "6ea2e806-b8c5-4a82-b837-9ebef4a6b017",
   "metadata": {},
   "source": [
    "Metode Kedua (pakai dropna) "
   ]
  },
  {
   "cell_type": "code",
   "execution_count": 33,
   "id": "b42b0e1a-1c54-4555-bd7e-0871fb4ae4c2",
   "metadata": {},
   "outputs": [],
   "source": [
    "df_2 = pd.read_csv('https://raw.githubusercontent.com/ardhiraka/PFDS_sources/master/property_data.csv', na_values= filter_missing_value)"
   ]
  },
  {
   "cell_type": "code",
   "execution_count": 34,
   "id": "c79ea83f-4a75-457d-9a77-0420b85cd651",
   "metadata": {},
   "outputs": [
    {
     "data": {
      "text/html": [
       "<div>\n",
       "<style scoped>\n",
       "    .dataframe tbody tr th:only-of-type {\n",
       "        vertical-align: middle;\n",
       "    }\n",
       "\n",
       "    .dataframe tbody tr th {\n",
       "        vertical-align: top;\n",
       "    }\n",
       "\n",
       "    .dataframe thead th {\n",
       "        text-align: right;\n",
       "    }\n",
       "</style>\n",
       "<table border=\"1\" class=\"dataframe\">\n",
       "  <thead>\n",
       "    <tr style=\"text-align: right;\">\n",
       "      <th></th>\n",
       "      <th>ST_NUM</th>\n",
       "      <th>ST_NAME</th>\n",
       "      <th>OWN_OCCUPIED</th>\n",
       "      <th>NUM_BEDROOMS</th>\n",
       "      <th>NUM_BATH</th>\n",
       "    </tr>\n",
       "  </thead>\n",
       "  <tbody>\n",
       "    <tr>\n",
       "      <th>0</th>\n",
       "      <td>104.0</td>\n",
       "      <td>PUTNAM</td>\n",
       "      <td>Y</td>\n",
       "      <td>3.0</td>\n",
       "      <td>1</td>\n",
       "    </tr>\n",
       "    <tr>\n",
       "      <th>1</th>\n",
       "      <td>197.0</td>\n",
       "      <td>LEXINGTON</td>\n",
       "      <td>N</td>\n",
       "      <td>3.0</td>\n",
       "      <td>1.5</td>\n",
       "    </tr>\n",
       "    <tr>\n",
       "      <th>2</th>\n",
       "      <td>NaN</td>\n",
       "      <td>LEXINGTON</td>\n",
       "      <td>N</td>\n",
       "      <td>NaN</td>\n",
       "      <td>1</td>\n",
       "    </tr>\n",
       "    <tr>\n",
       "      <th>3</th>\n",
       "      <td>201.0</td>\n",
       "      <td>BERKELEY</td>\n",
       "      <td>12</td>\n",
       "      <td>1.0</td>\n",
       "      <td>NaN</td>\n",
       "    </tr>\n",
       "    <tr>\n",
       "      <th>4</th>\n",
       "      <td>203.0</td>\n",
       "      <td>BERKELEY</td>\n",
       "      <td>Y</td>\n",
       "      <td>3.0</td>\n",
       "      <td>2</td>\n",
       "    </tr>\n",
       "    <tr>\n",
       "      <th>5</th>\n",
       "      <td>207.0</td>\n",
       "      <td>BERKELEY</td>\n",
       "      <td>Y</td>\n",
       "      <td>NaN</td>\n",
       "      <td>1</td>\n",
       "    </tr>\n",
       "    <tr>\n",
       "      <th>6</th>\n",
       "      <td>NaN</td>\n",
       "      <td>WASHINGTON</td>\n",
       "      <td>NaN</td>\n",
       "      <td>2.0</td>\n",
       "      <td>HURLEY</td>\n",
       "    </tr>\n",
       "    <tr>\n",
       "      <th>7</th>\n",
       "      <td>213.0</td>\n",
       "      <td>TREMONT</td>\n",
       "      <td>Y</td>\n",
       "      <td>NaN</td>\n",
       "      <td>1</td>\n",
       "    </tr>\n",
       "    <tr>\n",
       "      <th>8</th>\n",
       "      <td>215.0</td>\n",
       "      <td>TREMONT</td>\n",
       "      <td>Y</td>\n",
       "      <td>NaN</td>\n",
       "      <td>2</td>\n",
       "    </tr>\n",
       "  </tbody>\n",
       "</table>\n",
       "</div>"
      ],
      "text/plain": [
       "   ST_NUM     ST_NAME OWN_OCCUPIED  NUM_BEDROOMS NUM_BATH\n",
       "0   104.0      PUTNAM            Y           3.0        1\n",
       "1   197.0   LEXINGTON            N           3.0      1.5\n",
       "2     NaN   LEXINGTON            N           NaN        1\n",
       "3   201.0    BERKELEY           12           1.0      NaN\n",
       "4   203.0    BERKELEY            Y           3.0        2\n",
       "5   207.0    BERKELEY            Y           NaN        1\n",
       "6     NaN  WASHINGTON          NaN           2.0   HURLEY\n",
       "7   213.0     TREMONT            Y           NaN        1\n",
       "8   215.0     TREMONT            Y           NaN        2"
      ]
     },
     "execution_count": 34,
     "metadata": {},
     "output_type": "execute_result"
    }
   ],
   "source": [
    "df_2 = df_2[[\"ST_NUM\",\"ST_NAME\",\"OWN_OCCUPIED\",\"NUM_BEDROOMS\",\"NUM_BATH\"]]\n",
    "df_2"
   ]
  },
  {
   "cell_type": "code",
   "execution_count": 35,
   "id": "9bd27fe1-fd14-4aeb-8869-269e6f585160",
   "metadata": {},
   "outputs": [
    {
     "data": {
      "text/plain": [
       "ST_NUM          2\n",
       "ST_NAME         0\n",
       "OWN_OCCUPIED    1\n",
       "NUM_BEDROOMS    4\n",
       "NUM_BATH        1\n",
       "dtype: int64"
      ]
     },
     "execution_count": 35,
     "metadata": {},
     "output_type": "execute_result"
    }
   ],
   "source": [
    "df_2.isna().sum()"
   ]
  },
  {
   "cell_type": "code",
   "execution_count": 36,
   "id": "2414253a-8f22-44f8-9461-09e2c28d29bf",
   "metadata": {},
   "outputs": [],
   "source": [
    "df_2.dropna(inplace=True)"
   ]
  },
  {
   "cell_type": "code",
   "execution_count": 37,
   "id": "683a1791-f684-4ee8-b28f-398b0ab0c35f",
   "metadata": {},
   "outputs": [
    {
     "data": {
      "text/html": [
       "<div>\n",
       "<style scoped>\n",
       "    .dataframe tbody tr th:only-of-type {\n",
       "        vertical-align: middle;\n",
       "    }\n",
       "\n",
       "    .dataframe tbody tr th {\n",
       "        vertical-align: top;\n",
       "    }\n",
       "\n",
       "    .dataframe thead th {\n",
       "        text-align: right;\n",
       "    }\n",
       "</style>\n",
       "<table border=\"1\" class=\"dataframe\">\n",
       "  <thead>\n",
       "    <tr style=\"text-align: right;\">\n",
       "      <th></th>\n",
       "      <th>ST_NUM</th>\n",
       "      <th>ST_NAME</th>\n",
       "      <th>OWN_OCCUPIED</th>\n",
       "      <th>NUM_BEDROOMS</th>\n",
       "      <th>NUM_BATH</th>\n",
       "    </tr>\n",
       "  </thead>\n",
       "  <tbody>\n",
       "    <tr>\n",
       "      <th>0</th>\n",
       "      <td>104.0</td>\n",
       "      <td>PUTNAM</td>\n",
       "      <td>Y</td>\n",
       "      <td>3.0</td>\n",
       "      <td>1</td>\n",
       "    </tr>\n",
       "    <tr>\n",
       "      <th>1</th>\n",
       "      <td>197.0</td>\n",
       "      <td>LEXINGTON</td>\n",
       "      <td>N</td>\n",
       "      <td>3.0</td>\n",
       "      <td>1.5</td>\n",
       "    </tr>\n",
       "    <tr>\n",
       "      <th>4</th>\n",
       "      <td>203.0</td>\n",
       "      <td>BERKELEY</td>\n",
       "      <td>Y</td>\n",
       "      <td>3.0</td>\n",
       "      <td>2</td>\n",
       "    </tr>\n",
       "  </tbody>\n",
       "</table>\n",
       "</div>"
      ],
      "text/plain": [
       "   ST_NUM    ST_NAME OWN_OCCUPIED  NUM_BEDROOMS NUM_BATH\n",
       "0   104.0     PUTNAM            Y           3.0        1\n",
       "1   197.0  LEXINGTON            N           3.0      1.5\n",
       "4   203.0   BERKELEY            Y           3.0        2"
      ]
     },
     "execution_count": 37,
     "metadata": {},
     "output_type": "execute_result"
    }
   ],
   "source": [
    "df_2"
   ]
  },
  {
   "cell_type": "markdown",
   "id": "e0eb41bf-a287-4de6-a624-f40cf58fdcfc",
   "metadata": {},
   "source": [
    "Menangani Missing Value dengan REPLACING"
   ]
  },
  {
   "cell_type": "code",
   "execution_count": 42,
   "id": "260e422f-7df2-4208-878c-68651e00ebd5",
   "metadata": {},
   "outputs": [],
   "source": [
    "#df[kolom].fillna(value_diisi, inplace)\n",
    "df_used[\"ST_NUM\"].fillna(125, inplace=True)"
   ]
  },
  {
   "cell_type": "code",
   "execution_count": 43,
   "id": "919263cf-f6fd-49b7-8629-f16ca6bcf160",
   "metadata": {},
   "outputs": [
    {
     "data": {
      "text/plain": [
       "0    104.0\n",
       "1    197.0\n",
       "2    125.0\n",
       "3    201.0\n",
       "4    203.0\n",
       "5    207.0\n",
       "6    125.0\n",
       "7    213.0\n",
       "8    215.0\n",
       "Name: ST_NUM, dtype: float64"
      ]
     },
     "execution_count": 43,
     "metadata": {},
     "output_type": "execute_result"
    }
   ],
   "source": [
    "df_used[\"ST_NUM\"]"
   ]
  },
  {
   "cell_type": "code",
   "execution_count": 48,
   "id": "3387c223-8dcb-44cb-a8a1-d848325486cf",
   "metadata": {},
   "outputs": [
    {
     "data": {
      "text/plain": [
       "201.0"
      ]
     },
     "execution_count": 48,
     "metadata": {},
     "output_type": "execute_result"
    }
   ],
   "source": [
    "df_used[\"ST_NUM\"].median()"
   ]
  },
  {
   "cell_type": "code",
   "execution_count": 49,
   "id": "771443a8-a0e6-4ad1-bd15-dd7d53ba6c07",
   "metadata": {},
   "outputs": [
    {
     "data": {
      "text/plain": [
       "176.66666666666666"
      ]
     },
     "execution_count": 49,
     "metadata": {},
     "output_type": "execute_result"
    }
   ],
   "source": [
    "df_used[\"ST_NUM\"].mean()"
   ]
  },
  {
   "cell_type": "code",
   "execution_count": 50,
   "id": "6d378d1e-0b95-4815-bf72-f71747fc5a50",
   "metadata": {},
   "outputs": [
    {
     "data": {
      "text/plain": [
       "0    125.0\n",
       "Name: ST_NUM, dtype: float64"
      ]
     },
     "execution_count": 50,
     "metadata": {},
     "output_type": "execute_result"
    }
   ],
   "source": [
    "df_used[\"ST_NUM\"].mode()"
   ]
  },
  {
   "cell_type": "code",
   "execution_count": 51,
   "id": "1b5b624d-a490-4379-872a-4d8fe3a0fac1",
   "metadata": {},
   "outputs": [
    {
     "data": {
      "text/html": [
       "<div>\n",
       "<style scoped>\n",
       "    .dataframe tbody tr th:only-of-type {\n",
       "        vertical-align: middle;\n",
       "    }\n",
       "\n",
       "    .dataframe tbody tr th {\n",
       "        vertical-align: top;\n",
       "    }\n",
       "\n",
       "    .dataframe thead th {\n",
       "        text-align: right;\n",
       "    }\n",
       "</style>\n",
       "<table border=\"1\" class=\"dataframe\">\n",
       "  <thead>\n",
       "    <tr style=\"text-align: right;\">\n",
       "      <th></th>\n",
       "      <th>PID</th>\n",
       "      <th>ST_NUM</th>\n",
       "      <th>ST_NAME</th>\n",
       "      <th>OWN_OCCUPIED</th>\n",
       "      <th>NUM_BEDROOMS</th>\n",
       "      <th>NUM_BATH</th>\n",
       "      <th>SQ_FT</th>\n",
       "    </tr>\n",
       "  </thead>\n",
       "  <tbody>\n",
       "    <tr>\n",
       "      <th>0</th>\n",
       "      <td>100001000.0</td>\n",
       "      <td>104.0</td>\n",
       "      <td>PUTNAM</td>\n",
       "      <td>Y</td>\n",
       "      <td>3.0</td>\n",
       "      <td>1</td>\n",
       "      <td>1000.0</td>\n",
       "    </tr>\n",
       "    <tr>\n",
       "      <th>1</th>\n",
       "      <td>100002000.0</td>\n",
       "      <td>197.0</td>\n",
       "      <td>LEXINGTON</td>\n",
       "      <td>N</td>\n",
       "      <td>3.0</td>\n",
       "      <td>1.5</td>\n",
       "      <td>NaN</td>\n",
       "    </tr>\n",
       "    <tr>\n",
       "      <th>2</th>\n",
       "      <td>100003000.0</td>\n",
       "      <td>125.0</td>\n",
       "      <td>LEXINGTON</td>\n",
       "      <td>N</td>\n",
       "      <td>NaN</td>\n",
       "      <td>1</td>\n",
       "      <td>850.0</td>\n",
       "    </tr>\n",
       "    <tr>\n",
       "      <th>3</th>\n",
       "      <td>100004000.0</td>\n",
       "      <td>201.0</td>\n",
       "      <td>BERKELEY</td>\n",
       "      <td>12</td>\n",
       "      <td>1.0</td>\n",
       "      <td>NaN</td>\n",
       "      <td>700.0</td>\n",
       "    </tr>\n",
       "    <tr>\n",
       "      <th>4</th>\n",
       "      <td>NaN</td>\n",
       "      <td>203.0</td>\n",
       "      <td>BERKELEY</td>\n",
       "      <td>Y</td>\n",
       "      <td>3.0</td>\n",
       "      <td>2</td>\n",
       "      <td>1600.0</td>\n",
       "    </tr>\n",
       "    <tr>\n",
       "      <th>5</th>\n",
       "      <td>100006000.0</td>\n",
       "      <td>207.0</td>\n",
       "      <td>BERKELEY</td>\n",
       "      <td>Y</td>\n",
       "      <td>NaN</td>\n",
       "      <td>1</td>\n",
       "      <td>800.0</td>\n",
       "    </tr>\n",
       "    <tr>\n",
       "      <th>6</th>\n",
       "      <td>100007000.0</td>\n",
       "      <td>125.0</td>\n",
       "      <td>WASHINGTON</td>\n",
       "      <td>NaN</td>\n",
       "      <td>2.0</td>\n",
       "      <td>HURLEY</td>\n",
       "      <td>950.0</td>\n",
       "    </tr>\n",
       "    <tr>\n",
       "      <th>7</th>\n",
       "      <td>100008000.0</td>\n",
       "      <td>213.0</td>\n",
       "      <td>TREMONT</td>\n",
       "      <td>Y</td>\n",
       "      <td>NaN</td>\n",
       "      <td>1</td>\n",
       "      <td>NaN</td>\n",
       "    </tr>\n",
       "    <tr>\n",
       "      <th>8</th>\n",
       "      <td>100009000.0</td>\n",
       "      <td>215.0</td>\n",
       "      <td>TREMONT</td>\n",
       "      <td>Y</td>\n",
       "      <td>NaN</td>\n",
       "      <td>2</td>\n",
       "      <td>1800.0</td>\n",
       "    </tr>\n",
       "  </tbody>\n",
       "</table>\n",
       "</div>"
      ],
      "text/plain": [
       "           PID  ST_NUM     ST_NAME OWN_OCCUPIED  NUM_BEDROOMS NUM_BATH   SQ_FT\n",
       "0  100001000.0   104.0      PUTNAM            Y           3.0        1  1000.0\n",
       "1  100002000.0   197.0   LEXINGTON            N           3.0      1.5     NaN\n",
       "2  100003000.0   125.0   LEXINGTON            N           NaN        1   850.0\n",
       "3  100004000.0   201.0    BERKELEY           12           1.0      NaN   700.0\n",
       "4          NaN   203.0    BERKELEY            Y           3.0        2  1600.0\n",
       "5  100006000.0   207.0    BERKELEY            Y           NaN        1   800.0\n",
       "6  100007000.0   125.0  WASHINGTON          NaN           2.0   HURLEY   950.0\n",
       "7  100008000.0   213.0     TREMONT            Y           NaN        1     NaN\n",
       "8  100009000.0   215.0     TREMONT            Y           NaN        2  1800.0"
      ]
     },
     "execution_count": 51,
     "metadata": {},
     "output_type": "execute_result"
    }
   ],
   "source": [
    "df_used"
   ]
  },
  {
   "cell_type": "code",
   "execution_count": 52,
   "id": "b2deb6a4-df5e-4853-8c5a-157e4c28dee2",
   "metadata": {},
   "outputs": [
    {
     "data": {
      "text/plain": [
       "100005000.0"
      ]
     },
     "execution_count": 52,
     "metadata": {},
     "output_type": "execute_result"
    }
   ],
   "source": [
    "df_used[\"PID\"].median()"
   ]
  },
  {
   "cell_type": "code",
   "execution_count": 81,
   "id": "eb43aef4-ac81-45a1-bb09-39943883d658",
   "metadata": {},
   "outputs": [
    {
     "data": {
      "text/html": [
       "<div>\n",
       "<style scoped>\n",
       "    .dataframe tbody tr th:only-of-type {\n",
       "        vertical-align: middle;\n",
       "    }\n",
       "\n",
       "    .dataframe tbody tr th {\n",
       "        vertical-align: top;\n",
       "    }\n",
       "\n",
       "    .dataframe thead th {\n",
       "        text-align: right;\n",
       "    }\n",
       "</style>\n",
       "<table border=\"1\" class=\"dataframe\">\n",
       "  <thead>\n",
       "    <tr style=\"text-align: right;\">\n",
       "      <th></th>\n",
       "      <th>PID</th>\n",
       "      <th>ST_NUM</th>\n",
       "      <th>ST_NAME</th>\n",
       "      <th>OWN_OCCUPIED</th>\n",
       "      <th>NUM_BEDROOMS</th>\n",
       "      <th>NUM_BATH</th>\n",
       "      <th>SQ_FT</th>\n",
       "    </tr>\n",
       "  </thead>\n",
       "  <tbody>\n",
       "    <tr>\n",
       "      <th>0</th>\n",
       "      <td>100001000.0</td>\n",
       "      <td>104.0</td>\n",
       "      <td>PUTNAM</td>\n",
       "      <td>Y</td>\n",
       "      <td>3.0</td>\n",
       "      <td>1</td>\n",
       "      <td>1000.0</td>\n",
       "    </tr>\n",
       "    <tr>\n",
       "      <th>1</th>\n",
       "      <td>100002000.0</td>\n",
       "      <td>197.0</td>\n",
       "      <td>LEXINGTON</td>\n",
       "      <td>N</td>\n",
       "      <td>3.0</td>\n",
       "      <td>1.5</td>\n",
       "      <td>NaN</td>\n",
       "    </tr>\n",
       "    <tr>\n",
       "      <th>2</th>\n",
       "      <td>100003000.0</td>\n",
       "      <td>125.0</td>\n",
       "      <td>LEXINGTON</td>\n",
       "      <td>N</td>\n",
       "      <td>NaN</td>\n",
       "      <td>1</td>\n",
       "      <td>850.0</td>\n",
       "    </tr>\n",
       "    <tr>\n",
       "      <th>3</th>\n",
       "      <td>100004000.0</td>\n",
       "      <td>201.0</td>\n",
       "      <td>BERKELEY</td>\n",
       "      <td>12</td>\n",
       "      <td>1.0</td>\n",
       "      <td>NaN</td>\n",
       "      <td>700.0</td>\n",
       "    </tr>\n",
       "    <tr>\n",
       "      <th>4</th>\n",
       "      <td>100005000.0</td>\n",
       "      <td>203.0</td>\n",
       "      <td>BERKELEY</td>\n",
       "      <td>Y</td>\n",
       "      <td>3.0</td>\n",
       "      <td>2</td>\n",
       "      <td>1600.0</td>\n",
       "    </tr>\n",
       "    <tr>\n",
       "      <th>5</th>\n",
       "      <td>100006000.0</td>\n",
       "      <td>207.0</td>\n",
       "      <td>BERKELEY</td>\n",
       "      <td>Y</td>\n",
       "      <td>NaN</td>\n",
       "      <td>1</td>\n",
       "      <td>800.0</td>\n",
       "    </tr>\n",
       "    <tr>\n",
       "      <th>6</th>\n",
       "      <td>100007000.0</td>\n",
       "      <td>125.0</td>\n",
       "      <td>WASHINGTON</td>\n",
       "      <td>NaN</td>\n",
       "      <td>2.0</td>\n",
       "      <td>HURLEY</td>\n",
       "      <td>950.0</td>\n",
       "    </tr>\n",
       "    <tr>\n",
       "      <th>7</th>\n",
       "      <td>100008000.0</td>\n",
       "      <td>213.0</td>\n",
       "      <td>TREMONT</td>\n",
       "      <td>Y</td>\n",
       "      <td>NaN</td>\n",
       "      <td>1</td>\n",
       "      <td>NaN</td>\n",
       "    </tr>\n",
       "    <tr>\n",
       "      <th>8</th>\n",
       "      <td>100009000.0</td>\n",
       "      <td>215.0</td>\n",
       "      <td>TREMONT</td>\n",
       "      <td>Y</td>\n",
       "      <td>NaN</td>\n",
       "      <td>2</td>\n",
       "      <td>1800.0</td>\n",
       "    </tr>\n",
       "  </tbody>\n",
       "</table>\n",
       "</div>"
      ],
      "text/plain": [
       "           PID  ST_NUM     ST_NAME OWN_OCCUPIED  NUM_BEDROOMS NUM_BATH   SQ_FT\n",
       "0  100001000.0   104.0      PUTNAM            Y           3.0        1  1000.0\n",
       "1  100002000.0   197.0   LEXINGTON            N           3.0      1.5     NaN\n",
       "2  100003000.0   125.0   LEXINGTON            N           NaN        1   850.0\n",
       "3  100004000.0   201.0    BERKELEY           12           1.0      NaN   700.0\n",
       "4  100005000.0   203.0    BERKELEY            Y           3.0        2  1600.0\n",
       "5  100006000.0   207.0    BERKELEY            Y           NaN        1   800.0\n",
       "6  100007000.0   125.0  WASHINGTON          NaN           2.0   HURLEY   950.0\n",
       "7  100008000.0   213.0     TREMONT            Y           NaN        1     NaN\n",
       "8  100009000.0   215.0     TREMONT            Y           NaN        2  1800.0"
      ]
     },
     "execution_count": 81,
     "metadata": {},
     "output_type": "execute_result"
    }
   ],
   "source": [
    "df_used[\"PID\"].fillna(df_used[\"PID\"].median(), inplace=True)\n",
    "df_used"
   ]
  },
  {
   "cell_type": "code",
   "execution_count": 64,
   "id": "6460555e-32bf-47ca-a47d-4bbcdca508dc",
   "metadata": {},
   "outputs": [],
   "source": [
    "c = df_used[\"PID\"].median()"
   ]
  },
  {
   "cell_type": "markdown",
   "id": "5b481141-620a-436c-b5bd-6cd5c9683c14",
   "metadata": {},
   "source": [
    "Praktik Data"
   ]
  },
  {
   "cell_type": "code",
   "execution_count": 6,
   "id": "b89b32e6-4e6b-413a-893d-872f8c216091",
   "metadata": {},
   "outputs": [
    {
     "data": {
      "text/html": [
       "<div>\n",
       "<style scoped>\n",
       "    .dataframe tbody tr th:only-of-type {\n",
       "        vertical-align: middle;\n",
       "    }\n",
       "\n",
       "    .dataframe tbody tr th {\n",
       "        vertical-align: top;\n",
       "    }\n",
       "\n",
       "    .dataframe thead th {\n",
       "        text-align: right;\n",
       "    }\n",
       "</style>\n",
       "<table border=\"1\" class=\"dataframe\">\n",
       "  <thead>\n",
       "    <tr style=\"text-align: right;\">\n",
       "      <th></th>\n",
       "      <th>Tanggal</th>\n",
       "      <th>Jenis Produk</th>\n",
       "      <th>Jumlah Order</th>\n",
       "      <th>Harga</th>\n",
       "      <th>Total</th>\n",
       "    </tr>\n",
       "  </thead>\n",
       "  <tbody>\n",
       "    <tr>\n",
       "      <th>0</th>\n",
       "      <td>05/08/2022</td>\n",
       "      <td>Foodpak260</td>\n",
       "      <td>1000.0</td>\n",
       "      <td>1800.0</td>\n",
       "      <td>1800000.0</td>\n",
       "    </tr>\n",
       "    <tr>\n",
       "      <th>1</th>\n",
       "      <td>05/08/2022</td>\n",
       "      <td>FoodpakMatte245</td>\n",
       "      <td>1000.0</td>\n",
       "      <td>1900.0</td>\n",
       "      <td>1900000.0</td>\n",
       "    </tr>\n",
       "    <tr>\n",
       "      <th>2</th>\n",
       "      <td>05/08/2022</td>\n",
       "      <td>CraftLaminasi290</td>\n",
       "      <td>5000.0</td>\n",
       "      <td>750.0</td>\n",
       "      <td>3750000.0</td>\n",
       "    </tr>\n",
       "    <tr>\n",
       "      <th>3</th>\n",
       "      <td>05/08/2022</td>\n",
       "      <td>CraftLaminasi290</td>\n",
       "      <td>1000.0</td>\n",
       "      <td>1200.0</td>\n",
       "      <td>1200000.0</td>\n",
       "    </tr>\n",
       "    <tr>\n",
       "      <th>4</th>\n",
       "      <td>07/08/2022</td>\n",
       "      <td>Dupleks310</td>\n",
       "      <td>1000.0</td>\n",
       "      <td>1550.0</td>\n",
       "      <td>1550000.0</td>\n",
       "    </tr>\n",
       "    <tr>\n",
       "      <th>...</th>\n",
       "      <td>...</td>\n",
       "      <td>...</td>\n",
       "      <td>...</td>\n",
       "      <td>...</td>\n",
       "      <td>...</td>\n",
       "    </tr>\n",
       "    <tr>\n",
       "      <th>1071</th>\n",
       "      <td>14/11/2023</td>\n",
       "      <td>Ivory230</td>\n",
       "      <td>1000.0</td>\n",
       "      <td>900.0</td>\n",
       "      <td>900000.0</td>\n",
       "    </tr>\n",
       "    <tr>\n",
       "      <th>1072</th>\n",
       "      <td>15/11/2023</td>\n",
       "      <td>CraftLaminasi290</td>\n",
       "      <td>2000.0</td>\n",
       "      <td>800.0</td>\n",
       "      <td>1600000.0</td>\n",
       "    </tr>\n",
       "    <tr>\n",
       "      <th>1073</th>\n",
       "      <td>15/11/2023</td>\n",
       "      <td>CraftLaminasi290</td>\n",
       "      <td>1500.0</td>\n",
       "      <td>875.0</td>\n",
       "      <td>1312500.0</td>\n",
       "    </tr>\n",
       "    <tr>\n",
       "      <th>1074</th>\n",
       "      <td>15/11/2023</td>\n",
       "      <td>FoodpakMatte</td>\n",
       "      <td>1000.0</td>\n",
       "      <td>2200.0</td>\n",
       "      <td>2200000.0</td>\n",
       "    </tr>\n",
       "    <tr>\n",
       "      <th>1075</th>\n",
       "      <td>15/11/2023</td>\n",
       "      <td>GreaseProof</td>\n",
       "      <td>1000.0</td>\n",
       "      <td>300.0</td>\n",
       "      <td>300000.0</td>\n",
       "    </tr>\n",
       "  </tbody>\n",
       "</table>\n",
       "<p>1076 rows × 5 columns</p>\n",
       "</div>"
      ],
      "text/plain": [
       "         Tanggal      Jenis Produk  Jumlah Order   Harga      Total\n",
       "0     05/08/2022        Foodpak260        1000.0  1800.0  1800000.0\n",
       "1     05/08/2022   FoodpakMatte245        1000.0  1900.0  1900000.0\n",
       "2     05/08/2022  CraftLaminasi290        5000.0   750.0  3750000.0\n",
       "3     05/08/2022  CraftLaminasi290        1000.0  1200.0  1200000.0\n",
       "4     07/08/2022        Dupleks310        1000.0  1550.0  1550000.0\n",
       "...          ...               ...           ...     ...        ...\n",
       "1071  14/11/2023          Ivory230        1000.0   900.0   900000.0\n",
       "1072  15/11/2023  CraftLaminasi290        2000.0   800.0  1600000.0\n",
       "1073  15/11/2023  CraftLaminasi290        1500.0   875.0  1312500.0\n",
       "1074  15/11/2023      FoodpakMatte        1000.0  2200.0  2200000.0\n",
       "1075  15/11/2023       GreaseProof        1000.0   300.0   300000.0\n",
       "\n",
       "[1076 rows x 5 columns]"
      ]
     },
     "execution_count": 6,
     "metadata": {},
     "output_type": "execute_result"
    }
   ],
   "source": [
    "data_jualan = pd.read_excel(\"data_penjualan-Copy.xlsx\")\n",
    "data_jualan"
   ]
  },
  {
   "cell_type": "code",
   "execution_count": 14,
   "id": "e75c5b57-f8e1-410b-ae5b-ff211534e5d2",
   "metadata": {},
   "outputs": [],
   "source": [
    "import warnings\n",
    "warnings.filterwarnings(\"ignore\")"
   ]
  },
  {
   "cell_type": "code",
   "execution_count": 7,
   "id": "14ed726a-fb67-45a2-b5fc-3550c6f03f56",
   "metadata": {},
   "outputs": [
    {
     "data": {
      "text/plain": [
       "Tanggal          0\n",
       "Jenis Produk    20\n",
       "Jumlah Order    45\n",
       "Harga           52\n",
       "Total           54\n",
       "dtype: int64"
      ]
     },
     "execution_count": 7,
     "metadata": {},
     "output_type": "execute_result"
    }
   ],
   "source": [
    "data_jualan.isna().sum()"
   ]
  },
  {
   "cell_type": "code",
   "execution_count": null,
   "id": "7f0e92a3-8e5e-44d7-bd28-17a16575e926",
   "metadata": {},
   "outputs": [],
   "source": [
    "#jenis produk---> mode()\n",
    "#jumlah order --> mean()\n",
    "#harga --------> mean()\n",
    "#total --------> jumlah * harga"
   ]
  },
  {
   "cell_type": "code",
   "execution_count": 16,
   "id": "3ef42932-17d3-4782-b5f7-1a53b8dba674",
   "metadata": {},
   "outputs": [],
   "source": [
    "#jenis produk\n",
    "data_jualan[\"Jenis Produk\"].fillna(data_jualan[\"Jenis Produk\"].mode()[0], inplace=True)"
   ]
  },
  {
   "cell_type": "code",
   "execution_count": 17,
   "id": "6738ee30-0a3b-4ebe-b377-3b471855d39c",
   "metadata": {},
   "outputs": [],
   "source": [
    "#jumlah order \n",
    "data_jualan[\"Jumlah Order\"].fillna(data_jualan[\"Jumlah Order\"].mean(), inplace=True)"
   ]
  },
  {
   "cell_type": "code",
   "execution_count": 19,
   "id": "ab141139-4022-49c2-927c-7cf0387947ce",
   "metadata": {},
   "outputs": [],
   "source": [
    "#harga\n",
    "data_jualan[\"Harga\"].fillna(data_jualan[\"Harga\"].mean(), inplace=True)"
   ]
  },
  {
   "cell_type": "code",
   "execution_count": 22,
   "id": "488a7fcf-fa3c-48d6-a546-a7d40cd1cd78",
   "metadata": {},
   "outputs": [],
   "source": [
    "#total\n",
    "data_jualan.loc[data_jualan[\"Total\"].isna(), \"Total\"] = data_jualan[\"Jumlah Order\"] * data_jualan[\"Harga\"]"
   ]
  },
  {
   "cell_type": "code",
   "execution_count": 23,
   "id": "3501bbe5-3731-4a15-804c-7944b7f9fddd",
   "metadata": {},
   "outputs": [
    {
     "data": {
      "text/plain": [
       "Tanggal         0\n",
       "Jenis Produk    0\n",
       "Jumlah Order    0\n",
       "Harga           0\n",
       "Total           0\n",
       "dtype: int64"
      ]
     },
     "execution_count": 23,
     "metadata": {},
     "output_type": "execute_result"
    }
   ],
   "source": [
    "data_jualan.isna().sum()"
   ]
  },
  {
   "cell_type": "code",
   "execution_count": 26,
   "id": "ab73da06-b417-4e02-9ea9-146b1913d72e",
   "metadata": {},
   "outputs": [
    {
     "data": {
      "text/plain": [
       "2200000.0"
      ]
     },
     "execution_count": 26,
     "metadata": {},
     "output_type": "execute_result"
    }
   ],
   "source": [
    "data_jualan[\"Total\"].iloc[29]"
   ]
  },
  {
   "cell_type": "code",
   "execution_count": 30,
   "id": "73e1f1ed-71e2-481c-b574-c6ffb19353ed",
   "metadata": {},
   "outputs": [
    {
     "name": "stdout",
     "output_type": "stream",
     "text": [
      "Requirement already satisfied: matplotlib in c:\\users\\tz777\\anaconda3\\lib\\site-packages (3.9.2)\n",
      "Requirement already satisfied: contourpy>=1.0.1 in c:\\users\\tz777\\anaconda3\\lib\\site-packages (from matplotlib) (1.2.0)\n",
      "Requirement already satisfied: cycler>=0.10 in c:\\users\\tz777\\anaconda3\\lib\\site-packages (from matplotlib) (0.11.0)\n",
      "Requirement already satisfied: fonttools>=4.22.0 in c:\\users\\tz777\\anaconda3\\lib\\site-packages (from matplotlib) (4.51.0)\n",
      "Requirement already satisfied: kiwisolver>=1.3.1 in c:\\users\\tz777\\anaconda3\\lib\\site-packages (from matplotlib) (1.4.4)\n",
      "Requirement already satisfied: numpy>=1.23 in c:\\users\\tz777\\anaconda3\\lib\\site-packages (from matplotlib) (1.26.4)\n",
      "Requirement already satisfied: packaging>=20.0 in c:\\users\\tz777\\anaconda3\\lib\\site-packages (from matplotlib) (24.1)\n",
      "Requirement already satisfied: pillow>=8 in c:\\users\\tz777\\anaconda3\\lib\\site-packages (from matplotlib) (10.4.0)\n",
      "Requirement already satisfied: pyparsing>=2.3.1 in c:\\users\\tz777\\anaconda3\\lib\\site-packages (from matplotlib) (3.1.2)\n",
      "Requirement already satisfied: python-dateutil>=2.7 in c:\\users\\tz777\\anaconda3\\lib\\site-packages (from matplotlib) (2.9.0.post0)\n",
      "Requirement already satisfied: six>=1.5 in c:\\users\\tz777\\anaconda3\\lib\\site-packages (from python-dateutil>=2.7->matplotlib) (1.16.0)\n",
      "Note: you may need to restart the kernel to use updated packages.\n"
     ]
    }
   ],
   "source": [
    "pip install matplotlib"
   ]
  },
  {
   "cell_type": "markdown",
   "id": "9eab9238-8be2-465b-8548-b577dda72e8f",
   "metadata": {},
   "source": [
    "Matplotlib"
   ]
  },
  {
   "cell_type": "code",
   "execution_count": 28,
   "id": "ccf8931c-b031-4e2b-957f-4c7b4c74a598",
   "metadata": {},
   "outputs": [],
   "source": [
    "import matplotlib.pyplot as plt"
   ]
  },
  {
   "cell_type": "markdown",
   "id": "21d99cd3-9872-4cef-8131-82697eeb8ee7",
   "metadata": {},
   "source": [
    "Visualisasi jumlah order per produk dengan BARCHART"
   ]
  },
  {
   "cell_type": "code",
   "execution_count": 35,
   "id": "369a0e75-beb7-4b29-b30f-17fc83d25723",
   "metadata": {},
   "outputs": [
    {
     "name": "stdout",
     "output_type": "stream",
     "text": [
      "<class 'pandas.core.frame.DataFrame'>\n",
      "RangeIndex: 1076 entries, 0 to 1075\n",
      "Data columns (total 5 columns):\n",
      " #   Column        Non-Null Count  Dtype  \n",
      "---  ------        --------------  -----  \n",
      " 0   Tanggal       1076 non-null   object \n",
      " 1   Jenis Produk  1076 non-null   object \n",
      " 2   Jumlah Order  1076 non-null   float64\n",
      " 3   Harga         1076 non-null   float64\n",
      " 4   Total         1076 non-null   float64\n",
      "dtypes: float64(3), object(2)\n",
      "memory usage: 42.2+ KB\n"
     ]
    }
   ],
   "source": [
    "data_jualan.info()"
   ]
  },
  {
   "cell_type": "code",
   "execution_count": 38,
   "id": "484e7a02-b289-4468-bbb1-672fae1e0d01",
   "metadata": {},
   "outputs": [],
   "source": [
    "data_jualan[\"Jenis Produk\"] = data_jualan[\"Jenis Produk\"].astype(str)\n",
    "data_jualan[\"Jumlah Order\"] = data_jualan[\"Jumlah Order\"].astype(float)"
   ]
  },
  {
   "cell_type": "code",
   "execution_count": 49,
   "id": "d13d1442-eed0-4d90-be5c-f91e262ae4cb",
   "metadata": {},
   "outputs": [
    {
     "data": {
      "image/png": "[encoded data removed]",
      "text/plain": [
       "<Figure size 800x500 with 1 Axes>"
      ]
     },
     "metadata": {},
     "output_type": "display_data"
    }
   ],
   "source": [
    "plt.figure(figsize=(8,5))\n",
    "plt.bar(data_jualan[\"Jenis Produk\"], data_jualan[\"Jumlah Order\"], color=\"skyblue\")\n",
    "plt.title(\"Jumlah Order per Produk\")\n",
    "plt.xlabel(\"Jenis Produk\")\n",
    "plt.ylabel(\"Jumlah Order\")\n",
    "plt.show()"
   ]
  },
  {
   "cell_type": "code",
   "execution_count": 42,
   "id": "7f4fc3b9-3c33-4866-8549-1a1230975ce7",
   "metadata": {},
   "outputs": [
    {
     "data": {
      "text/html": [
       "<div>\n",
       "<style scoped>\n",
       "    .dataframe tbody tr th:only-of-type {\n",
       "        vertical-align: middle;\n",
       "    }\n",
       "\n",
       "    .dataframe tbody tr th {\n",
       "        vertical-align: top;\n",
       "    }\n",
       "\n",
       "    .dataframe thead th {\n",
       "        text-align: right;\n",
       "    }\n",
       "</style>\n",
       "<table border=\"1\" class=\"dataframe\">\n",
       "  <thead>\n",
       "    <tr style=\"text-align: right;\">\n",
       "      <th></th>\n",
       "      <th>Tanggal</th>\n",
       "      <th>Jenis Produk</th>\n",
       "      <th>Jumlah Order</th>\n",
       "      <th>Harga</th>\n",
       "      <th>Total</th>\n",
       "    </tr>\n",
       "  </thead>\n",
       "  <tbody>\n",
       "    <tr>\n",
       "      <th>431</th>\n",
       "      <td>21/02/2023</td>\n",
       "      <td>HVS</td>\n",
       "      <td>40000.0</td>\n",
       "      <td>250.0</td>\n",
       "      <td>10000000.0</td>\n",
       "    </tr>\n",
       "    <tr>\n",
       "      <th>62</th>\n",
       "      <td>03/09/2022</td>\n",
       "      <td>HVS</td>\n",
       "      <td>20000.0</td>\n",
       "      <td>250.0</td>\n",
       "      <td>5000000.0</td>\n",
       "    </tr>\n",
       "    <tr>\n",
       "      <th>128</th>\n",
       "      <td>07/10/2022</td>\n",
       "      <td>HVS</td>\n",
       "      <td>20000.0</td>\n",
       "      <td>250.0</td>\n",
       "      <td>5000000.0</td>\n",
       "    </tr>\n",
       "    <tr>\n",
       "      <th>197</th>\n",
       "      <td>20/11/2022</td>\n",
       "      <td>HVS</td>\n",
       "      <td>20000.0</td>\n",
       "      <td>250.0</td>\n",
       "      <td>5000000.0</td>\n",
       "    </tr>\n",
       "    <tr>\n",
       "      <th>256</th>\n",
       "      <td>07/12/2022</td>\n",
       "      <td>HVS</td>\n",
       "      <td>20000.0</td>\n",
       "      <td>250.0</td>\n",
       "      <td>5000000.0</td>\n",
       "    </tr>\n",
       "    <tr>\n",
       "      <th>345</th>\n",
       "      <td>06/01/2023</td>\n",
       "      <td>HVS</td>\n",
       "      <td>20000.0</td>\n",
       "      <td>250.0</td>\n",
       "      <td>5000000.0</td>\n",
       "    </tr>\n",
       "    <tr>\n",
       "      <th>547</th>\n",
       "      <td>29/04/2023</td>\n",
       "      <td>HVS</td>\n",
       "      <td>20000.0</td>\n",
       "      <td>250.0</td>\n",
       "      <td>5000000.0</td>\n",
       "    </tr>\n",
       "    <tr>\n",
       "      <th>684</th>\n",
       "      <td>26/06/2023</td>\n",
       "      <td>HVS</td>\n",
       "      <td>20000.0</td>\n",
       "      <td>250.0</td>\n",
       "      <td>5000000.0</td>\n",
       "    </tr>\n",
       "    <tr>\n",
       "      <th>742</th>\n",
       "      <td>19/07/2023</td>\n",
       "      <td>HVSHIJAU</td>\n",
       "      <td>20000.0</td>\n",
       "      <td>250.0</td>\n",
       "      <td>5000000.0</td>\n",
       "    </tr>\n",
       "    <tr>\n",
       "      <th>850</th>\n",
       "      <td>24/08/2023</td>\n",
       "      <td>HVS</td>\n",
       "      <td>20000.0</td>\n",
       "      <td>250.0</td>\n",
       "      <td>5000000.0</td>\n",
       "    </tr>\n",
       "  </tbody>\n",
       "</table>\n",
       "</div>"
      ],
      "text/plain": [
       "        Tanggal Jenis Produk  Jumlah Order  Harga       Total\n",
       "431  21/02/2023          HVS       40000.0  250.0  10000000.0\n",
       "62   03/09/2022          HVS       20000.0  250.0   5000000.0\n",
       "128  07/10/2022          HVS       20000.0  250.0   5000000.0\n",
       "197  20/11/2022          HVS       20000.0  250.0   5000000.0\n",
       "256  07/12/2022          HVS       20000.0  250.0   5000000.0\n",
       "345  06/01/2023          HVS       20000.0  250.0   5000000.0\n",
       "547  29/04/2023          HVS       20000.0  250.0   5000000.0\n",
       "684  26/06/2023          HVS       20000.0  250.0   5000000.0\n",
       "742  19/07/2023     HVSHIJAU       20000.0  250.0   5000000.0\n",
       "850  24/08/2023          HVS       20000.0  250.0   5000000.0"
      ]
     },
     "execution_count": 42,
     "metadata": {},
     "output_type": "execute_result"
    }
   ],
   "source": [
    "top_10_produk = data_jualan.nlargest(10, \"Jumlah Order\")\n",
    "top_10_produk"
   ]
  },
  {
   "cell_type": "code",
   "execution_count": 44,
   "id": "4a7b5173-6f5c-4488-8cc0-f8b28b9de7de",
   "metadata": {},
   "outputs": [
    {
     "data": {
      "text/html": [
       "<div>\n",
       "<style scoped>\n",
       "    .dataframe tbody tr th:only-of-type {\n",
       "        vertical-align: middle;\n",
       "    }\n",
       "\n",
       "    .dataframe tbody tr th {\n",
       "        vertical-align: top;\n",
       "    }\n",
       "\n",
       "    .dataframe thead th {\n",
       "        text-align: right;\n",
       "    }\n",
       "</style>\n",
       "<table border=\"1\" class=\"dataframe\">\n",
       "  <thead>\n",
       "    <tr style=\"text-align: right;\">\n",
       "      <th></th>\n",
       "      <th>Tanggal</th>\n",
       "      <th>Jenis Produk</th>\n",
       "      <th>Jumlah Order</th>\n",
       "      <th>Harga</th>\n",
       "      <th>Total</th>\n",
       "    </tr>\n",
       "  </thead>\n",
       "  <tbody>\n",
       "    <tr>\n",
       "      <th>740</th>\n",
       "      <td>17/07/2023</td>\n",
       "      <td>KertasStiker</td>\n",
       "      <td>5.0</td>\n",
       "      <td>15000.0</td>\n",
       "      <td>75000.0</td>\n",
       "    </tr>\n",
       "    <tr>\n",
       "      <th>882</th>\n",
       "      <td>02/09/2023</td>\n",
       "      <td>KertasStiker</td>\n",
       "      <td>5.0</td>\n",
       "      <td>15000.0</td>\n",
       "      <td>75000.0</td>\n",
       "    </tr>\n",
       "    <tr>\n",
       "      <th>931</th>\n",
       "      <td>22/09/2023</td>\n",
       "      <td>KertasStikerA3</td>\n",
       "      <td>5.0</td>\n",
       "      <td>15000.0</td>\n",
       "      <td>75000.0</td>\n",
       "    </tr>\n",
       "    <tr>\n",
       "      <th>729</th>\n",
       "      <td>14/07/2023</td>\n",
       "      <td>KertasStiker</td>\n",
       "      <td>6.0</td>\n",
       "      <td>15000.0</td>\n",
       "      <td>90000.0</td>\n",
       "    </tr>\n",
       "    <tr>\n",
       "      <th>649</th>\n",
       "      <td>12/06/2023</td>\n",
       "      <td>StikerKertas</td>\n",
       "      <td>8.0</td>\n",
       "      <td>15000.0</td>\n",
       "      <td>120000.0</td>\n",
       "    </tr>\n",
       "    <tr>\n",
       "      <th>650</th>\n",
       "      <td>12/06/2023</td>\n",
       "      <td>StikerKertas</td>\n",
       "      <td>20.0</td>\n",
       "      <td>15000.0</td>\n",
       "      <td>300000.0</td>\n",
       "    </tr>\n",
       "    <tr>\n",
       "      <th>414</th>\n",
       "      <td>13/02/2023</td>\n",
       "      <td>KertasFolio</td>\n",
       "      <td>50.0</td>\n",
       "      <td>12000.0</td>\n",
       "      <td>600000.0</td>\n",
       "    </tr>\n",
       "    <tr>\n",
       "      <th>923</th>\n",
       "      <td>19/09/2023</td>\n",
       "      <td>NCR</td>\n",
       "      <td>50.0</td>\n",
       "      <td>12000.0</td>\n",
       "      <td>600000.0</td>\n",
       "    </tr>\n",
       "    <tr>\n",
       "      <th>158</th>\n",
       "      <td>24/10/2022</td>\n",
       "      <td>PTSariIndahPackagingIndustry</td>\n",
       "      <td>100.0</td>\n",
       "      <td>3500.0</td>\n",
       "      <td>350000.0</td>\n",
       "    </tr>\n",
       "    <tr>\n",
       "      <th>288</th>\n",
       "      <td>15/12/2022</td>\n",
       "      <td>PTSARIINDAH</td>\n",
       "      <td>100.0</td>\n",
       "      <td>3000.0</td>\n",
       "      <td>300000.0</td>\n",
       "    </tr>\n",
       "  </tbody>\n",
       "</table>\n",
       "</div>"
      ],
      "text/plain": [
       "        Tanggal                  Jenis Produk  Jumlah Order    Harga     Total\n",
       "740  17/07/2023                  KertasStiker           5.0  15000.0   75000.0\n",
       "882  02/09/2023                  KertasStiker           5.0  15000.0   75000.0\n",
       "931  22/09/2023                KertasStikerA3           5.0  15000.0   75000.0\n",
       "729  14/07/2023                  KertasStiker           6.0  15000.0   90000.0\n",
       "649  12/06/2023                  StikerKertas           8.0  15000.0  120000.0\n",
       "650  12/06/2023                  StikerKertas          20.0  15000.0  300000.0\n",
       "414  13/02/2023                   KertasFolio          50.0  12000.0  600000.0\n",
       "923  19/09/2023                           NCR          50.0  12000.0  600000.0\n",
       "158  24/10/2022  PTSariIndahPackagingIndustry         100.0   3500.0  350000.0\n",
       "288  15/12/2022                   PTSARIINDAH         100.0   3000.0  300000.0"
      ]
     },
     "execution_count": 44,
     "metadata": {},
     "output_type": "execute_result"
    }
   ],
   "source": [
    "top_10_produk_kecil = data_jualan.nsmallest(10, \"Jumlah Order\")\n",
    "top_10_produk_kecil"
   ]
  },
  {
   "cell_type": "code",
   "execution_count": 70,
   "id": "a0055bf8-516b-4ee0-87b1-63e33e6bd856",
   "metadata": {},
   "outputs": [
    {
     "data": {
      "text/plain": [
       "([0, 1], [Text(0, 0, 'HVS'), Text(1, 0, 'HVSHIJAU')])"
      ]
     },
     "execution_count": 70,
     "metadata": {},
     "output_type": "execute_result"
    },
    {
     "data": {
      "image/png": "[encoded data removed]",
      "text/plain": [
       "<Figure size 1000x500 with 1 Axes>"
      ]
     },
     "metadata": {},
     "output_type": "display_data"
    }
   ],
   "source": [
    "plt.figure(figsize=(10,5))\n",
    "plt.bar(top_10_produk[\"Jenis Produk\"],top_10_produk[\"Jumlah Order\"], color=\"palegreen\")\n",
    "plt.title(\"TOP 10 PRODUK\")\n",
    "plt.xlabel(\"NAMA PRODUK\")\n",
    "plt.ylabel(\"JUMLAH ORDER\")\n",
    "plt.xticks(rotation=45)"
   ]
  },
  {
   "cell_type": "code",
   "execution_count": 73,
   "id": "6210e183-6d7e-4971-96ea-eda6e8a88516",
   "metadata": {},
   "outputs": [
    {
     "data": {
      "text/plain": [
       "([0, 1, 2, 3, 4, 5, 6],\n",
       " [Text(0, 0, 'KertasStiker'),\n",
       "  Text(1, 0, 'KertasStikerA3'),\n",
       "  Text(2, 0, 'StikerKertas'),\n",
       "  Text(3, 0, 'KertasFolio'),\n",
       "  Text(4, 0, 'NCR'),\n",
       "  Text(5, 0, 'PTSariIndahPackagingIndustry'),\n",
       "  Text(6, 0, 'PTSARIINDAH')])"
      ]
     },
     "execution_count": 73,
     "metadata": {},
     "output_type": "execute_result"
    },
    {
     "data": {
      "image/png": "[encoded data removed]",
      "text/plain": [
       "<Figure size 1000x500 with 1 Axes>"
      ]
     },
     "metadata": {},
     "output_type": "display_data"
    }
   ],
   "source": [
    "plt.figure(figsize=(10,5))\n",
    "plt.bar(top_10_produk_kecil[\"Jenis Produk\"],top_10_produk_kecil[\"Jumlah Order\"], color=\"gold\")\n",
    "plt.title(\"TOP 10 PRODUK\")\n",
    "plt.xlabel(\"NAMA PRODUK\")\n",
    "plt.ylabel(\"JUMLAH ORDER\")\n",
    "plt.xticks(rotation=45)"
   ]
  },
  {
   "cell_type": "markdown",
   "id": "1bdb6e59-aeb5-4b45-bff8-11658ae6cac7",
   "metadata": {},
   "source": [
    "#penugasan\n",
    "1. Analisa Penjualan setiap bulan dari produk kalian ---> Jumlah penjualan setiap bulan\n",
    "2. Visualisasikan pendapatan tertinggi setiap bulannya, hitung total pendapatan produk setiap bulan ---> list,\n",
    "   {\"Januari\": 20000; \"Februari\": 30000} ---> visualisasikan\n",
    "\n",
    "3. Kasih legenda setiap visualisasi\n"
   ]
  },
  {
   "cell_type": "code",
   "execution_count": 69,
   "id": "d62f6360-866d-42fa-8a0e-3e78cd007eaf",
   "metadata": {},
   "outputs": [
    {
     "data": {
      "image/png": "[encoded data removed]",
      "text/plain": [
       "<Figure size 1000x500 with 1 Axes>"
      ]
     },
     "metadata": {},
     "output_type": "display_data"
    }
   ],
   "source": [
    "#1\n",
    "data_hvs = data_jualan[data_jualan[\"Jenis Produk\"]== \"HVS\"]\n",
    "data_jualan[\"Tanggal\"] = pd.to_datetime(data_jualan[\"Tanggal\"], dayfirst=True)\n",
    "data_hvs[\"bulan\"] = data_hvs[\"Tanggal\"].dt.to_period(\"M\")\n",
    "penjualan_perbulan = data_hvs.groupby(\"bulan\")[\"Jumlah Order\"].sum()\n",
    "nama_bulan = penjualan_perbulan.index.strftime(\"%B %Y\")\n",
    "plt.figure(figsize=(10,5))\n",
    "plt.bar(nama_bulan, penjualan_perbulan.values, color=\"rebeccapurple\")\n",
    "plt.title(\"Jumlah Penjualan HVS Setiap Bulan\")\n",
    "plt.xlabel(\"Bulan\")\n",
    "plt.ylabel(\"Jumlah Order\")\n",
    "plt.xticks(rotation=45)\n",
    "plt.tight_layout()\n",
    "plt.show()"
   ]
  },
  {
   "cell_type": "code",
   "execution_count": 74,
   "id": "f867cc4b-8529-44e7-9cf5-25f37c15f9db",
   "metadata": {},
   "outputs": [
    {
     "data": {
      "image/png": "[encoded data removed]",
      "text/plain": [
       "<Figure size 1000x500 with 1 Axes>"
      ]
     },
     "metadata": {},
     "output_type": "display_data"
    }
   ],
   "source": [
    "#2\n",
    "data_jualan[\"Tanggal\"] = pd.to_datetime(data_jualan[\"Tanggal\"], dayfirst=True)\n",
    "data_hvs = data_jualan[data_jualan[\"Jenis Produk\"]== \"HVS\"]\n",
    "data_hvs[\"bulan\"] = data_hvs[\"Tanggal\"].dt.to_period(\"M\")\n",
    "data_hvs[\"pendapatan\"] = data_hvs[\"Jumlah Order\"] * data_hvs[\"Harga\"]\n",
    "pendapatan_perbulan = data_hvs.groupby(\"bulan\")[\"pendapatan\"].sum()\n",
    "nama_bulan = pendapatan_perbulan.index.strftime(\"%B%Y\")\n",
    "plt.figure(figsize=(10,5))\n",
    "plt.bar(nama_bulan, pendapatan_perbulan.values, color=\"deeppink\")\n",
    "plt.title(\"Pendapatan Tertinggi HVS Setiap Bulan\")\n",
    "plt.xlabel(\"Bulan\")\n",
    "plt.ylabel(\"Total Pendapatan (IDR)\")\n",
    "plt.xticks(rotation=45)\n",
    "plt.tight_layout()\n",
    "plt.show()"
   ]
  },
  {
   "cell_type": "code",
   "execution_count": 76,
   "id": "e2210fc8-62c4-4f13-ac07-9ea5b8602b61",
   "metadata": {},
   "outputs": [
    {
     "data": {
      "image/png": "[encoded data removed]",
      "text/plain": [
       "<Figure size 1000x500 with 1 Axes>"
      ]
     },
     "metadata": {},
     "output_type": "display_data"
    }
   ],
   "source": [
    "#3\n",
    "data_jualan[\"Tanggal\"] = pd.to_datetime(data_jualan[\"Tanggal\"], dayfirst=True)\n",
    "data_hvs = data_jualan[data_jualan[\"Jenis Produk\"]== \"HVS\"]\n",
    "data_hvs[\"bulan\"] = data_hvs[\"Tanggal\"].dt.to_period(\"M\")\n",
    "data_hvs[\"pendapatan\"] = data_hvs[\"Jumlah Order\"] * data_hvs[\"Harga\"]\n",
    "pendapatan_perbulan = data_hvs.groupby(\"bulan\")[\"pendapatan\"].sum()\n",
    "nama_bulan = pendapatan_perbulan.index.strftime(\"%B%Y\")\n",
    "plt.figure(figsize=(10,5))\n",
    "plt.bar(nama_bulan, pendapatan_perbulan.values, color=\"olive\")\n",
    "plt.title(\"Pendapatan Tertinggi HVS Setiap Bulan\")\n",
    "plt.xlabel(\"Bulan\")\n",
    "plt.ylabel(\"Total Pendapatan (IDR)\")\n",
    "plt.xticks(rotation=45)\n",
    "plt.tight_layout()\n",
    "plt.legend(title=\"Jenis Produk\")\n",
    "plt.show()"
   ]
  },
  {
   "cell_type": "code",
   "execution_count": null,
   "id": "298ced43-f2de-422b-8dca-46e61e7e209d",
   "metadata": {},
   "outputs": [],
   "source": []
  }
 ],
 "metadata": {
  "kernelspec": {
   "display_name": "Python 3 (ipykernel)",
   "language": "python",
   "name": "python3"
  },
  "language_info": {
   "codemirror_mode": {
    "name": "ipython",
    "version": 3
   },
   "file_extension": ".py",
   "mimetype": "text/x-python",
   "name": "python",
   "nbconvert_exporter": "python",
   "pygments_lexer": "ipython3",
   "version": "3.12.7"
  }
 },
 "nbformat": 4,
 "nbformat_minor": 5
}
